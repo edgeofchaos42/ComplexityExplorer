{
  "nbformat": 4,
  "nbformat_minor": 0,
  "metadata": {
    "colab": {
      "name": "Session 4 -Upload the Landscape.ipynb",
      "provenance": [],
      "collapsed_sections": [],
      "include_colab_link": true
    },
    "kernelspec": {
      "name": "python3",
      "display_name": "Python 3"
    },
    "language_info": {
      "name": "python"
    }
  },
  "cells": [
    {
      "cell_type": "markdown",
      "metadata": {
        "id": "view-in-github",
        "colab_type": "text"
      },
      "source": [
        "<a href=\"https://colab.research.google.com/github/edgeofchaos42/ComplexityExplorer/blob/main/Session_4_Upload_the_Landscape.ipynb\" target=\"_parent\"><img src=\"https://colab.research.google.com/assets/colab-badge.svg\" alt=\"Open In Colab\"/></a>"
      ]
    },
    {
      "cell_type": "markdown",
      "source": [
        "### 1- Review the Structure\n",
        "\n",
        "Script Notes: \n",
        "\n",
        "In lesson three we set up our basic structures\n",
        "\n",
        "First we install mesa and import our depedencies. \n",
        "\n",
        "Second we initialized our classes (show as you discuss) \n",
        "\n",
        "First there is the sugar class, then spice, then the trader and finally the manager class which is SugarscapeG1mt. \n",
        "\n",
        "we then have a cell to initialize and run the model. "
      ],
      "metadata": {
        "id": "1WxZVj47O4g0"
      }
    },
    {
      "cell_type": "code",
      "execution_count": null,
      "metadata": {
        "id": "4WLq5KlVQK6X"
      },
      "outputs": [],
      "source": [
        "pip install mesa"
      ]
    },
    {
      "cell_type": "code",
      "source": [
        "import mesa\n",
        "#part 2\n",
        "import numpy as np\n",
        "\n",
        "#part 3\n",
        "import matplotlib.pyplot as plt\n",
        "\n",
        "\n",
        "\n",
        "%matplotlib inline "
      ],
      "metadata": {
        "id": "R-uRKmZUxS2S"
      },
      "execution_count": null,
      "outputs": []
    },
    {
      "cell_type": "code",
      "source": [
        "class Sugar(mesa.Agent):\n",
        "    \"\"\"\n",
        "    Sugar is a FSM that\n",
        "    - contains an amount of sugar\n",
        "    - grows 1 amount of sugar at each turn (Epstein's rule G1).\n",
        "    \"\"\"\n",
        "    \n",
        "    \n",
        "    def __init__(self):\n",
        "        print(\"I am a Sugar\")"
      ],
      "metadata": {
        "id": "qLn3pp5X1Cp2"
      },
      "execution_count": null,
      "outputs": []
    },
    {
      "cell_type": "code",
      "source": [
        "class Spice(mesa.Agent):\n",
        "    \"\"\"\n",
        "    Spice is a FSM that\n",
        "    - contains an amount of spice\n",
        "    - grows 1 amount of spice at each turn.\n",
        "    \"\"\"\n",
        "\n",
        "    def __init__(self):\n",
        "      print(\"I am Spice\")\n",
        "       "
      ],
      "metadata": {
        "id": "vWcWMp2My8tJ"
      },
      "execution_count": null,
      "outputs": []
    },
    {
      "cell_type": "code",
      "source": [
        "class Trader(mesa.Agent):\n",
        "    \"\"\"\n",
        "    TraderAgent is a \n",
        "    - has a metabolism for sugar and spice\n",
        "    - harvest and trades sugar and spice to survive and thrive\n",
        "    \"\"\"\n",
        "\n",
        "    def __init__(self):\n",
        "      print(\"I am a Trader\")"
      ],
      "metadata": {
        "id": "89x-JNt-zQmK"
      },
      "execution_count": null,
      "outputs": []
    },
    {
      "cell_type": "markdown",
      "source": [
        "## 2 Read in the Sugar and Spice\n",
        "\n",
        "Now we need to create a grid on which the sugar and spice can live and read in the values of the landscape. \n",
        "\n",
        "---\n",
        "**Part 1**: \n",
        "Following Growing Artificial Societies, we will initiate a grid of 50 by 50 or 2500 grid cells. \n",
        "\n",
        "Following Mesa convention we will start with width (x-axis) and then height (y-axis). As this can be a parameter as well we will initiate the grid as a key word argument.\n",
        "\n",
        "---\n",
        "\n",
        "**Part 2**\n",
        "We will then need a space for the sugar and spice agents to go. To do this will initiate Mesa's multigrid. Multigrid allows multiple agents to be in a cell at a time so this will allow sugar agents, spice agents and traders all to be on the same space. \n",
        "\n",
        "Mesa also has a key word argument for whether or not the grid folds back on itself, if an agent is on the top row it can go to the bottom row, or if an agent is on the left column it can go to the right column. This shape looks like a donut but is technically called a torus. Per Growing Artificial Societies we are going to set this to False. \n",
        "\n",
        "Mesa has 5 types of space as well as a geospatial package which is is a seperate library [mesa-geo](https://github.com/projectmesa/mesa-geo)\n",
        "\n",
        "The 5 spaces are:\n",
        "- `SingleGrid` -- only one agent in a grid cell at a time\n",
        "- `MultiGrid` -- many agents can be in a cell\n",
        "- `HexGrid` -- which has 6 sided cells vs 4\n",
        "- `ContinousSpace` -- where each agent can have an arbitrary position\n",
        "- `NetworkGrid` -- where agents exists on a network\n",
        "\n",
        "We need a 3D space if anyone is interested in helping us and contrubting to Mesa is the plan for the advanced tutorial if you arienterested in open source development. \n",
        "\n",
        "As with all Mesa code you can go explore it the [multigrid space](https://github.com/projectmesa/mesa/blob/a2afbdb40a6f39e2781b30e0de6968ea3090fe38/mesa/space.py#L537). \n",
        "\n",
        "---\n",
        "**Part 3:**\n",
        "Now that we have a place for the sugar and spice to go we need to read in the terrain. The fille to create the landscpae is located on [complexity explorer files tab](https://www.complexityexplorer.org/courses/157-mesa-abm/segments/15542). \n",
        "\n",
        "To read in this file first we need to: \n",
        "\n",
        "1. Import numpy so let us go to our imports cell\n",
        "2. Locally upload the folder\n",
        "3. read in\n",
        "4. see the data structure\n",
        "5. Flip the distribution to get the spice\n",
        "\n",
        "\n",
        "---\n",
        "**Part 4:** Validate the distribution is what we want\n",
        "\n",
        "1. import matplotib\n",
        "2. plot the distribution\n",
        "3. Switch the origin\n",
        "4. plot the spice\n",
        "\n"
      ],
      "metadata": {
        "id": "RsPaTj2b4wxn"
      }
    },
    {
      "cell_type": "code",
      "source": [
        "class SugarscapeG1mt(mesa.Model):\n",
        "\n",
        "  def __init__(self, width=50, height=50): \n",
        "    \n",
        "    #Set parameters: Part 1\n",
        "    self.width = width\n",
        "    self.height = height\n",
        "\n",
        "    #Initiate Grid: Part 2\n",
        "    self.grid = mesa.space.MultiGrid(self.width, self.height, torus=False)\n",
        "\n",
        "    #Part 3 read in file: \n",
        "    sugar_distribution = np.genfromtxt(\"sugar-map.txt\") \n",
        "    #show data structure\n",
        "    print(sugar_distribution.shape) #delete later\n",
        "    print(sugar_distribution[30]) #show different rows\n",
        "    spice_distribution = spice = np.flip(sugar_distribution,1)\n",
        "    plt.imshow(spice_distribution, origin=\"lower\") #switch to orign to lower, change to spice\n",
        "    \n",
        "    #DELETE\n",
        "    #Place on grid\n",
        "    '''\n",
        "    self.spice = Spice()\n",
        "    self.sugar = Sugar()\n",
        "    self.trader = Trader()\n",
        "    '''"
      ],
      "metadata": {
        "id": "V3yTkyWz0Pi9"
      },
      "execution_count": null,
      "outputs": []
    },
    {
      "cell_type": "markdown",
      "source": [
        "Finally we will create a run cell that will initaite our models or models. "
      ],
      "metadata": {
        "id": "kIZgcmbwzy35"
      }
    },
    {
      "cell_type": "code",
      "source": [
        "model = SugarscapeG1mt()"
      ],
      "metadata": {
        "colab": {
          "base_uri": "https://localhost:8080/",
          "height": 339
        },
        "id": "wbZ1-r5q1fe1",
        "outputId": "d97a97b9-7f3c-4496-8bff-b5c79a6c21a3"
      },
      "execution_count": null,
      "outputs": [
        {
          "output_type": "stream",
          "name": "stdout",
          "text": [
            "(50, 50)\n",
            "[2. 2. 2. 2. 2. 3. 3. 3. 3. 3. 3. 4. 4. 4. 4. 4. 4. 4. 4. 3. 3. 3. 3. 3.\n",
            " 3. 3. 2. 2. 2. 2. 2. 2. 2. 2. 2. 2. 1. 1. 1. 1. 1. 1. 1. 1. 1. 1. 1. 0.\n",
            " 0. 0.]\n"
          ]
        },
        {
          "output_type": "display_data",
          "data": {
            "text/plain": [
              "<Figure size 432x288 with 1 Axes>"
            ],
            "image/png": "[encoded data removed]"
          },
          "metadata": {
            "needs_background": "light"
          }
        }
      ]
    }
  ]
}