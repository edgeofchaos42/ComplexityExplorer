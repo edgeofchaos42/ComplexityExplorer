{
  "nbformat": 4,
  "nbformat_minor": 0,
  "metadata": {
    "colab": {
      "provenance": [],
      "collapsed_sections": [],
      "include_colab_link": true
    },
    "kernelspec": {
      "name": "python3",
      "display_name": "Python 3"
    },
    "language_info": {
      "name": "python"
    }
  },
  "cells": [
    {
      "cell_type": "markdown",
      "metadata": {
        "id": "view-in-github",
        "colab_type": "text"
      },
      "source": [
        "<a href=\"https://colab.research.google.com/github/edgeofchaos42/ComplexityExplorer/blob/main/Session_18_Data_Collector_agent.ipynb\" target=\"_parent\"><img src=\"https://colab.research.google.com/assets/colab-badge.svg\" alt=\"Open In Colab\"/></a>"
      ]
    },
    {
      "cell_type": "markdown",
      "source": [
        "### 1- Review lesson 17 and intro\n",
        "\n",
        "Script Notes: \n",
        "\n",
        "In lesson 17 we collected model variables, of the number of agents, price and trade volume and made some assocated visualitzations. Now we want to collect some agent level variables.    \n",
        "\n",
        "*Review each class and model set up*"
      ],
      "metadata": {
        "id": "1WxZVj47O4g0"
      }
    },
    {
      "cell_type": "code",
      "source": [
        "from google.colab import drive\n",
        "drive.mount('/content/drive')"
      ],
      "metadata": {
        "colab": {
          "base_uri": "https://localhost:8080/"
        },
        "id": "CCWF0WnCu1_3",
        "outputId": "a059cfb9-80c5-4d6c-c406-b8d2436071c2"
      },
      "execution_count": null,
      "outputs": [
        {
          "output_type": "stream",
          "name": "stdout",
          "text": [
            "Mounted at /content/drive\n"
          ]
        }
      ]
    },
    {
      "cell_type": "code",
      "source": [
        "try: \n",
        "  import mesa\n",
        "except: \n",
        "  !pip install mesa --quiet\n",
        "  import mesa\n",
        "import numpy as np\n",
        "import math\n",
        "import matplotlib.pyplot as plt\n",
        "import itertools\n",
        "#part 3\n",
        "import networkx as nx\n",
        "\n",
        "\n",
        "%matplotlib inline "
      ],
      "metadata": {
        "id": "R-uRKmZUxS2S",
        "colab": {
          "base_uri": "https://localhost:8080/"
        },
        "outputId": "e4a6e823-2b62-4521-8de5-8f248958a0a9"
      },
      "execution_count": null,
      "outputs": [
        {
          "output_type": "stream",
          "name": "stdout",
          "text": [
            "\u001b[K     |████████████████████████████████| 2.5 MB 8.7 MB/s \n",
            "\u001b[K     |████████████████████████████████| 66 kB 5.1 MB/s \n",
            "\u001b[?25h"
          ]
        }
      ]
    },
    {
      "cell_type": "code",
      "source": [
        "def get_distance(pos_1, pos_2):\n",
        "    \"\"\"Calculate Euclidean distance between two positions.\n",
        "    Args:\n",
        "        pos_1, pos_2: Coordinate tuples for both points.\n",
        "    \n",
        "    used in trader.move()\n",
        "    \"\"\"\n",
        "    x1, y1 = pos_1\n",
        "    x2, y2 = pos_2\n",
        "    dx = x1 - x2\n",
        "    dy = y1 - y2\n",
        "    return math.sqrt(dx**2 + dy**2)\n",
        "\n",
        "def flatten(list_of_lists):\n",
        "    return [item for sublist in list_of_lists for item in sublist]\n",
        "\n",
        "def geometric_mean(x):\n",
        "    return np.exp(np.log(x).mean())\n",
        "\n",
        "def get_trade(agent):\n",
        "  if type(agent) == Trader:\n",
        "    return agent.trade_partners\n",
        "  else: return None\n"
      ],
      "metadata": {
        "id": "BVOrDIhE4EFe"
      },
      "execution_count": null,
      "outputs": []
    },
    {
      "cell_type": "code",
      "source": [
        "class Sugar(mesa.Agent):\n",
        "    \"\"\"\n",
        "    Sugar is a FSM that\n",
        "    - contains an amount of sugar\n",
        "    - grows 1 amount of sugar at each turn (rule G1).\n",
        "    \"\"\"\n",
        "    \n",
        "    \n",
        "    def __init__(self, unique_id, model, pos, max_sugar): \n",
        "      super().__init__(unique_id, model) #part 3\n",
        "      self.pos = pos\n",
        "      self.amount = max_sugar\n",
        "      self.max_sugar = max_sugar\n",
        "\n",
        "    def step(self): \n",
        "      self.amount = min([self.max_sugar,self.amount+1])\n",
        "      \n",
        "      "
      ],
      "metadata": {
        "id": "qLn3pp5X1Cp2"
      },
      "execution_count": null,
      "outputs": []
    },
    {
      "cell_type": "code",
      "source": [
        "class Spice(mesa.Agent):\n",
        "    \"\"\"\n",
        "    Spice is a FSM that\n",
        "    - contains an amount of spice\n",
        "    - grows 1 amount of spice at each turn. (rule G1)\n",
        "    \"\"\"\n",
        "\n",
        "    def __init__(self, unique_id, model, pos, max_spice): \n",
        "        super().__init__(unique_id, model) \n",
        "        self.pos = pos\n",
        "        self.amount = max_spice\n",
        "        self.max_spice = max_spice\n",
        "\n",
        "    def step(self): #Part 1\n",
        "      self.amount = min([self.max_spice,self.amount+1])\n",
        "       "
      ],
      "metadata": {
        "id": "vWcWMp2My8tJ"
      },
      "execution_count": null,
      "outputs": []
    },
    {
      "cell_type": "markdown",
      "source": [
        "## Agents"
      ],
      "metadata": {
        "id": "_cKNCCP4Kenz"
      }
    },
    {
      "cell_type": "code",
      "source": [
        "class Trader(mesa.Agent):\n",
        "    \"\"\"\n",
        "    TraderAgent is a \n",
        "    - has a metabolism for sugar and spice\n",
        "    - harvest and trades sugar and spice to survive and thrive\n",
        "    \"\"\"\n",
        "\n",
        "    def __init__(self, unique_id, model,pos,moore=False, sugar=0, \n",
        "                 spice=0, metabolism_sugar=0, metabolism_spice=0,\n",
        "                 vision=0): \n",
        "      super().__init__(unique_id, model)\n",
        "      self.pos = pos \n",
        "      self.moore = False \n",
        "      self.sugar = sugar \n",
        "      self.spice = spice \n",
        "      self.metabolism_sugar=metabolism_sugar \n",
        "      self.metabolism_spice=metabolism_spice \n",
        "      self.vision = vision \n",
        "      self.prices = []\n",
        "      self.trade_partners = []\n",
        "\n",
        "  \n",
        "    def get_sugar(self, pos): #part 2\n",
        "      '''\n",
        "      used in:\n",
        "         get_sugar_amount()\n",
        "         eat()\n",
        "\n",
        "      '''\n",
        "      this_cell = self.model.grid.get_cell_list_contents(pos)\n",
        "      for agent in this_cell:\n",
        "          if type(agent) is Sugar:\n",
        "              return agent\n",
        "      return None\n",
        "    \n",
        "    \n",
        "    def get_sugar_amount(self, pos):\n",
        "      '''\n",
        "      used in move()\n",
        "      '''\n",
        "      \n",
        "      sugar_patch = self.get_sugar(pos)\n",
        "      if sugar_patch:\n",
        "          return sugar_patch.amount\n",
        "      return 0\n",
        "    \n",
        "    \n",
        "    def get_spice(self, pos):\n",
        "      '''\n",
        "      used in get_spice_amount\n",
        "      '''\n",
        "      this_cell = self.model.grid.get_cell_list_contents(pos)\n",
        "      for agent in this_cell:\n",
        "          if type(agent) is Spice:\n",
        "              return agent\n",
        "      return None\n",
        "        \n",
        "    \n",
        "    def get_spice_amount(self, pos):\n",
        "        '''\n",
        "        used in move()\n",
        "        '''\n",
        "        spice_patch = self.get_spice(pos)\n",
        "        if spice_patch: \n",
        "          return spice_patch.amount\n",
        "        return 0\n",
        "  \n",
        "    def get_trader(self, pos):\n",
        "      '''\n",
        "      used in trade_with neighbors()\n",
        "      '''\n",
        "      this_cell =self.model.grid.get_cell_list_contents(pos)\n",
        "\n",
        "      for agent in this_cell: \n",
        "        if isinstance(agent, Trader):\n",
        "          return agent\n",
        "    \n",
        "    \n",
        "    def is_occupied(self, pos): \n",
        "      '''\n",
        "      Helper function for move()\n",
        "      '''\n",
        "      \n",
        "      this_cell = self.model.grid.get_cell_list_contents(pos)\n",
        "      for a in this_cell:\n",
        "          if isinstance(a, Trader) and a.pos != self.pos:\n",
        "              return True\n",
        "      return False\n",
        "       \n",
        "    def calculate_welfare(self, sugar, spice): #This will be built to be like the example later with none, but right now it wouldn't make any sense\n",
        "      '''\n",
        "      Helper function for:\n",
        "      move()\n",
        "      trade()\n",
        "\n",
        "      '''\n",
        "\n",
        "      #calculate total resources\n",
        "      m_total = self.metabolism_sugar + self.metabolism_spice\n",
        "      #Cobb-Douglas functional form\n",
        "      return sugar** (self.metabolism_sugar/m_total) * spice ** (\n",
        "          self.metabolism_spice/m_total)\n",
        "      \n",
        "    def is_starved(self): \n",
        "      '''\n",
        "      helper function for maybe_die()\n",
        "      '''\n",
        "\n",
        "      return (self.sugar <= 0) or (self.spice <=0)\n",
        "\n",
        "    def calculate_MRS(self): \n",
        "      '''\n",
        "      used in trade()\n",
        "      '''\n",
        "\n",
        "      return (self.spice/self.metabolism_spice) / (self.sugar/self.metabolism_sugar)\n",
        "    \n",
        "    def calculate_sell_spice_amount(self, price):\n",
        "      '''\n",
        "      Helper function for maybe_sell_spice() which is called from trade()\n",
        "      '''\n",
        "      if price >= 1:\n",
        "          sugar = 1\n",
        "          spice = int(price)\n",
        "      else:\n",
        "          sugar = int(1 / price)\n",
        "          spice = 1\n",
        "      return sugar, spice\n",
        "\n",
        "    def sell_spice(self, other, sugar, spice):\n",
        "      '''\n",
        "      used in maybe_sell_spice\n",
        "      :param: Agent object\n",
        "      :param: int sugar to be exchanged\n",
        "      :param: int spice to be exchanged\n",
        "      '''\n",
        "\n",
        "      self.sugar += sugar\n",
        "      other.sugar -= sugar\n",
        "      self.spice -= spice\n",
        "      other.spice += spice\n",
        "  \n",
        "    \n",
        "    def maybe_sell_spice(self, other, price, welfare_self, welfare_other):\n",
        "      '''\n",
        "      helper function for trade()\n",
        "      '''\n",
        "      sugar_exchanged, spice_exchanged = self.calculate_sell_spice_amount(price)\n",
        "\n",
        "      # Preparing the new sugar spice amount -- what if the exchange were to occur.\n",
        "      self_sugar = self.sugar + sugar_exchanged\n",
        "      other_sugar = other.sugar - sugar_exchanged\n",
        "      self_spice = self.spice - spice_exchanged\n",
        "      other_spice = other.spice + spice_exchanged\n",
        "\n",
        "      #Double Check to see if agents have resources\n",
        "\n",
        "      if (\n",
        "          (self_sugar <=0)\n",
        "       or (other_sugar <= 0)\n",
        "       or (self_spice <= 0)\n",
        "       or (other_spice <= 0)):\n",
        "        return False\n",
        "\n",
        "      #trade crtieria 1 are both agents better off?\n",
        "      both_agents_better_off = (\n",
        "          welfare_self < self.calculate_welfare(self_sugar, self_spice) and \n",
        "          (welfare_other < other.calculate_welfare(other_sugar, other_spice)))\n",
        "      \n",
        "      #trade criteria 2 is their mrs crossing\n",
        "      mrs_not_crossing = self.calculate_MRS() > other.calculate_MRS()\n",
        "\n",
        "      if not (both_agents_better_off and mrs_not_crossing):\n",
        "            return False\n",
        "\n",
        "      #add sell spice\n",
        "      self.sell_spice(other, sugar_exchanged, spice_exchanged)\n",
        "\n",
        "      return True\n",
        "       \n",
        "\n",
        "    \n",
        "    def trade(self, other):\n",
        "      '''\n",
        "      used in trade_with_neighbors()\n",
        "      '''\n",
        "      #Part 0\n",
        "      #sanity check to verify code is working the way we think\n",
        "      assert self.sugar > 0\n",
        "      assert self.spice > 0\n",
        "      assert other.sugar > 0 \n",
        "      assert other.spice > 0 \n",
        "\n",
        "      mrs_self = self.calculate_MRS()\n",
        "      mrs_other = other.calculate_MRS()\n",
        "      #part 1: \n",
        "      welfare_self = self.calculate_welfare(self.sugar, self.spice)\n",
        "      welfare_other = other.calculate_welfare(other.sugar, other.spice)\n",
        "\n",
        "      if math.isclose(mrs_self, mrs_other, rel_tol=1e-2): \n",
        "        return \n",
        "\n",
        "      price = math.sqrt(mrs_self*mrs_other)\n",
        "\n",
        "      if mrs_self > mrs_other: \n",
        "        #self is a sugar buyer\n",
        "        sold = self.maybe_sell_spice(other, price, welfare_self, welfare_other)\n",
        "        #part 2\n",
        "        if not sold: \n",
        "          return\n",
        "      else: \n",
        "        #self is a spice buyer\n",
        "        sold = other.maybe_sell_spice(self, price, welfare_other, welfare_self)\n",
        "        if not sold: \n",
        "          return\n",
        "      \n",
        "      #part 3\n",
        "      self.prices.append(price)\n",
        "      if other.unique_id not in self.trade_partners: \n",
        "        self.trade_partners.append(other.unique_id)\n",
        "\n",
        "      #continue trading\n",
        "      self.trade(other)\n",
        "\n",
        "\n",
        "\n",
        "\n",
        "    ###########################################################################\n",
        "    #                                                                         #\n",
        "    #                            MAIN FUNCTIONS                               #\n",
        "    #                                                                         #\n",
        "    ###########################################################################\n",
        "\n",
        "    def move(self): \n",
        "           \n",
        "      # 1. Get neighbors within vision\n",
        "\n",
        "      neighbors = [i \n",
        "                   for i in self.model.grid.get_neighborhood(\n",
        "                       self.pos, self.moore,True, self.vision\n",
        "                       )\n",
        "                   if not self.is_occupied(i)\n",
        "      ]\n",
        "\n",
        "      # 2. Find the patch which produce the maximum welfare. \n",
        "\n",
        "      welfares = [\n",
        "            self.calculate_welfare(\n",
        "                self.sugar + self.get_sugar_amount(pos),\n",
        "                self.spice + self.get_spice_amount(pos),\n",
        "            )\n",
        "            for pos in neighbors] #part 2\n",
        "\n",
        "      #find the highest welfare in the cell \n",
        "      max_welfare = max(welfares)\n",
        "      #get the index of maximal welfare cells\n",
        "      candidate_indices = [i for i in range(len(welfares))\n",
        "                             if math.isclose(welfares[i], max_welfare,\n",
        "                                             rel_tol=1e-02)]\n",
        "      #convert index to positions of those cells\n",
        "      candidates = [neighbors[i] for i in candidate_indices]\n",
        "     \n",
        "      \n",
        "      # 3. Find the nearest patch among the candidate.\n",
        "      min_dist = min([get_distance(self.pos, pos) for pos in candidates])\n",
        "      final_candidates = [pos for pos in candidates if math.isclose(get_distance(self.pos, pos),\n",
        "                                                                   min_dist, rel_tol=1e-02)]\n",
        "      self.random.shuffle(final_candidates)\n",
        "\n",
        "      # 4. Move agent.\n",
        "      self.model.grid.move_agent(self, final_candidates[0])\n",
        "\n",
        "\n",
        "\n",
        "    def eat(self):\n",
        "      #get sugar\n",
        "      sugar_patch = self.get_sugar(self.pos)\n",
        "\n",
        "      if sugar_patch:\n",
        "        self.sugar = self.sugar - self.metabolism_sugar + sugar_patch.amount\n",
        "        sugar_patch.amount = 0\n",
        "        #print(self.sugar, sugar_patch.amount)\n",
        "      \n",
        "      #get_spice part 2\n",
        "      spice_patch = self.get_spice(self.pos)\n",
        "      #print(spice_patch)\n",
        "      if spice_patch: \n",
        "        self.spice = self.spice - self.metabolism_spice + spice_patch.amount\n",
        "        spice_patch.amount = 0\n",
        "        #print(self.spice, spice_patch.amount)\n",
        "\n",
        "    def maybe_die(self): \n",
        "\n",
        "      if self.is_starved(): \n",
        "        self.model.grid.remove_agent(self) \n",
        "        self.model.schedule.remove(self)\n",
        "          \n",
        "    def trade_with_neighbors(self):\n",
        "      \n",
        "      neighbor_agents =[self.get_trader(pos) for pos in self.model.grid.get_neighborhood(\n",
        "          self.pos, self.moore, False, radius=self.vision) if self.is_occupied(pos)]\n",
        "        \n",
        "      if len(neighbor_agents) == 0:\n",
        "            #part 4\n",
        "            return [], []\n",
        "      \n",
        "      for a in neighbor_agents: \n",
        "        if a: \n",
        "          self.trade(a)\n",
        "      #\n",
        "      prices = [p for p in self.prices if p ]\n",
        "      trader_partners = [t for t in self.trade_partners if t]\n",
        "      self.prices = []\n",
        "      self.trade_partners = []\n",
        "      #print(prices, trader_partners)\n",
        "      return prices, trader_partners"
      ],
      "metadata": {
        "id": "89x-JNt-zQmK"
      },
      "execution_count": null,
      "outputs": []
    },
    {
      "cell_type": "markdown",
      "source": [
        "## Add Data Collector\n",
        "\n",
        "**Part 1**\n",
        "\n",
        "------------\n",
        "\n",
        "First, We update the data collector to the model initialization. \n",
        "\n"
      ],
      "metadata": {
        "id": "7G6PP33Gdk5N"
      }
    },
    {
      "cell_type": "code",
      "source": [
        "class SugarscapeG1mt(mesa.Model):\n",
        "\n",
        "  def __init__(self, width=50, height=50, initial_population=200,\n",
        "               endowment_min =25, endowment_max =50, metabolism_min = 1,\n",
        "                 metabolism_max = 5, vision_min = 1, vision_max =5): \n",
        "    \n",
        "    self.width = width\n",
        "    self.height = height\n",
        "    self.initial_population =initial_population \n",
        "    self.endowment_min = endowment_min \n",
        "    self.endowment_max = endowment_max \n",
        "    self.metabolism_min = metabolism_min\n",
        "    self.metabolism_max = metabolism_max\n",
        "    self.vision_min = vision_min\n",
        "    self.vision_max = vision_max\n",
        "\n",
        "\n",
        "    self.schedule = mesa.time.RandomActivationByType(self)\n",
        "    self.grid = mesa.space.MultiGrid(self.width, self.height, torus=True)\n",
        "    \n",
        "    \n",
        "    #####################################################################\n",
        "    #####################################################################\n",
        "    #\n",
        "\n",
        "    #part 1\n",
        "    self.datacollector = mesa.DataCollector(\n",
        "        model_reporters= {\"Trader\": lambda m: m.schedule.get_type_count(Trader),\n",
        "         \"Trade volume\": lambda m: sum(len(a.trade_partners)\n",
        "         for a in m.schedule.agents_by_type[Trader].values()),\n",
        "         \"Price\": lambda m: geometric_mean(list(itertools.chain.from_iterable([a.prices for a in m.schedule.agents_by_type[Trader].values()])))},\n",
        "         agent_reporters= {\"Trade_Network\" : lambda a: get_trade(a)})\n",
        "\n",
        "    sugar_distribution = np.genfromtxt(\"/content/drive/MyDrive/sugar-map.txt\") \n",
        "    spice_distribution = spice = np.flip(sugar_distribution,1)\n",
        "    \n",
        "    #ensure unique id\n",
        "    agent_id = 0\n",
        "    for _, x, y in self.grid.coord_iter(): \n",
        "      max_sugar = sugar_distribution[x,y]\n",
        "      if max_sugar > 0: \n",
        "        sugar = Sugar(agent_id, self, (x,y),max_sugar)\n",
        "        self.grid.place_agent(sugar, (x, y))\n",
        "        #Place Agent\n",
        "        self.schedule.add(sugar) \n",
        "        agent_id += 1\n",
        "\n",
        "      max_spice = spice_distribution[x,y]\n",
        "      if max_spice > 0: \n",
        "        spice = Spice(agent_id, self, (x,y), max_spice)\n",
        "        self.grid.place_agent(spice,(x,y))\n",
        "        self.schedule.add(spice)\n",
        "        agent_id += 1\n",
        "         \n",
        "    \n",
        "    for i in range(self.initial_population):\n",
        "      #get agent position\n",
        "      x = self.random.randrange(self.width) \n",
        "      y = self.random.randrange(self.height) \n",
        "      # See GAS page 108 for parameters initialization.\n",
        "      # Each agent is endowed by a random amount of sugar and spice\n",
        "      sugar = self.random.uniform(self.endowment_min, self.endowment_max+1) \n",
        "      spice = self.random.uniform(self.endowment_min, self.endowment_max+1) \n",
        "      #add metabolism also on page #108\n",
        "      metabolism_sugar = self.random.uniform(self.metabolism_min, self.metabolism_max)\n",
        "      metabolism_spice = self.random.uniform(self.metabolism_min, self.metabolism_max)\n",
        "      #add vision\n",
        "      vision =int(self.random.uniform(self.vision_min, self.vision_max))\n",
        "      trader = Trader(\n",
        "                agent_id,\n",
        "                self,\n",
        "                (x, y),\n",
        "                False,\n",
        "                sugar,\n",
        "                spice,\n",
        "                metabolism_sugar,\n",
        "                metabolism_spice,\n",
        "                vision,\n",
        "            )\n",
        "      self.grid.place_agent(trader, (x, y))\n",
        "      self.schedule.add(trader)\n",
        "      agent_id += 1\n",
        "      \n",
        "  def randomize_traders(self): \n",
        "    \"\"\"\n",
        "    Helper function for step()\n",
        "\n",
        "    updates list of agents used in step function\n",
        "    \"\"\"\n",
        "    \n",
        "    Traders = self.schedule.agents_by_type[Trader].values()\n",
        "    Trader_shuffle = list(Traders)\n",
        "    self.random.shuffle(Trader_shuffle)\n",
        "\n",
        "    return Trader_shuffle\n",
        "  \n",
        "  \n",
        "  def step(self): \n",
        "    \n",
        "    for sugar in self.schedule.agents_by_type[Sugar].values(): \n",
        "      sugar.step()\n",
        "    \n",
        "    for spice in self.schedule.agents_by_type[Spice].values(): \n",
        "      spice.step()\n",
        "        \n",
        "    Trader_shuffle = self.randomize_traders()\n",
        "    \n",
        "    for agent in Trader_shuffle: \n",
        "      agent.move() \n",
        "      agent.eat() \n",
        "      agent.maybe_die() \n",
        "\n",
        "    Trader_shuffle = self.randomize_traders()\n",
        "        \n",
        "    for agent in Trader_shuffle: \n",
        "      agent.prices, agent.trade_partners = agent.trade_with_neighbors()\n",
        "    \n",
        "    self.schedule.time +=1\n",
        "    self.schedule.steps += 1\n",
        "    \n",
        "    #part 2 ###############################################\n",
        "    #collect at each step\n",
        "    self.datacollector.collect(self)\n",
        " \n",
        "  def run_model(self, step_count=1000):\n",
        "    \n",
        "    for i in range(step_count):\n",
        "      self.step()"
      ],
      "metadata": {
        "id": "V3yTkyWz0Pi9"
      },
      "execution_count": null,
      "outputs": []
    },
    {
      "cell_type": "markdown",
      "source": [
        "## Model Run \n"
      ],
      "metadata": {
        "id": "kYXO-SNTPnC-"
      }
    },
    {
      "cell_type": "code",
      "source": [
        "model = SugarscapeG1mt()\n",
        "model.run_model(step_count=100) "
      ],
      "metadata": {
        "id": "wbZ1-r5q1fe1"
      },
      "execution_count": null,
      "outputs": []
    },
    {
      "cell_type": "markdown",
      "source": [
        "## Results\n",
        "\n",
        "**Part 2**\n",
        "\n",
        "---------------------------------------------------------\n",
        "\n"
      ],
      "metadata": {
        "id": "kbcVjq6O63Fq"
      }
    },
    {
      "cell_type": "code",
      "source": [
        "results = model.datacollector.get_model_vars_dataframe()\n",
        "\n",
        "results"
      ],
      "metadata": {
        "colab": {
          "base_uri": "https://localhost:8080/",
          "height": 423
        },
        "id": "Gt1Yx-S_fdlh",
        "outputId": "9f91ce9c-2fc0-4af8-9b01-04ec46f6773c"
      },
      "execution_count": null,
      "outputs": [
        {
          "output_type": "execute_result",
          "data": {
            "text/plain": [
              "    Trader  Trade volume     Price\n",
              "0      200            88  1.010625\n",
              "1      200           112  1.014557\n",
              "2      200           135  1.000803\n",
              "3      200           143  1.013961\n",
              "4      200           147  1.016275\n",
              "..     ...           ...       ...\n",
              "95      78           431  0.896347\n",
              "96      78           405  0.885231\n",
              "97      78           400  0.883658\n",
              "98      78           406  0.885904\n",
              "99      78           407  0.867749\n",
              "\n",
              "[100 rows x 3 columns]"
            ],
            "text/html": [
              "\n",
              "  <div id=\"df-2130eda1-18c5-455a-b32e-40ae811e99ee\">\n",
              "    <div class=\"colab-df-container\">\n",
              "      <div>\n",
              "<style scoped>\n",
              "    .dataframe tbody tr th:only-of-type {\n",
              "        vertical-align: middle;\n",
              "    }\n",
              "\n",
              "    .dataframe tbody tr th {\n",
              "        vertical-align: top;\n",
              "    }\n",
              "\n",
              "    .dataframe thead th {\n",
              "        text-align: right;\n",
              "    }\n",
              "</style>\n",
              "<table border=\"1\" class=\"dataframe\">\n",
              "  <thead>\n",
              "    <tr style=\"text-align: right;\">\n",
              "      <th></th>\n",
              "      <th>Trader</th>\n",
              "      <th>Trade volume</th>\n",
              "      <th>Price</th>\n",
              "    </tr>\n",
              "  </thead>\n",
              "  <tbody>\n",
              "    <tr>\n",
              "      <th>0</th>\n",
              "      <td>200</td>\n",
              "      <td>88</td>\n",
              "      <td>1.010625</td>\n",
              "    </tr>\n",
              "    <tr>\n",
              "      <th>1</th>\n",
              "      <td>200</td>\n",
              "      <td>112</td>\n",
              "      <td>1.014557</td>\n",
              "    </tr>\n",
              "    <tr>\n",
              "      <th>2</th>\n",
              "      <td>200</td>\n",
              "      <td>135</td>\n",
              "      <td>1.000803</td>\n",
              "    </tr>\n",
              "    <tr>\n",
              "      <th>3</th>\n",
              "      <td>200</td>\n",
              "      <td>143</td>\n",
              "      <td>1.013961</td>\n",
              "    </tr>\n",
              "    <tr>\n",
              "      <th>4</th>\n",
              "      <td>200</td>\n",
              "      <td>147</td>\n",
              "      <td>1.016275</td>\n",
              "    </tr>\n",
              "    <tr>\n",
              "      <th>...</th>\n",
              "      <td>...</td>\n",
              "      <td>...</td>\n",
              "      <td>...</td>\n",
              "    </tr>\n",
              "    <tr>\n",
              "      <th>95</th>\n",
              "      <td>78</td>\n",
              "      <td>431</td>\n",
              "      <td>0.896347</td>\n",
              "    </tr>\n",
              "    <tr>\n",
              "      <th>96</th>\n",
              "      <td>78</td>\n",
              "      <td>405</td>\n",
              "      <td>0.885231</td>\n",
              "    </tr>\n",
              "    <tr>\n",
              "      <th>97</th>\n",
              "      <td>78</td>\n",
              "      <td>400</td>\n",
              "      <td>0.883658</td>\n",
              "    </tr>\n",
              "    <tr>\n",
              "      <th>98</th>\n",
              "      <td>78</td>\n",
              "      <td>406</td>\n",
              "      <td>0.885904</td>\n",
              "    </tr>\n",
              "    <tr>\n",
              "      <th>99</th>\n",
              "      <td>78</td>\n",
              "      <td>407</td>\n",
              "      <td>0.867749</td>\n",
              "    </tr>\n",
              "  </tbody>\n",
              "</table>\n",
              "<p>100 rows × 3 columns</p>\n",
              "</div>\n",
              "      <button class=\"colab-df-convert\" onclick=\"convertToInteractive('df-2130eda1-18c5-455a-b32e-40ae811e99ee')\"\n",
              "              title=\"Convert this dataframe to an interactive table.\"\n",
              "              style=\"display:none;\">\n",
              "        \n",
              "  <svg xmlns=\"http://www.w3.org/2000/svg\" height=\"24px\"viewBox=\"0 0 24 24\"\n",
              "       width=\"24px\">\n",
              "    <path d=\"M0 0h24v24H0V0z\" fill=\"none\"/>\n",
              "    <path d=\"M18.56 5.44l.94 2.06.94-2.06 2.06-.94-2.06-.94-.94-2.06-.94 2.06-2.06.94zm-11 1L8.5 8.5l.94-2.06 2.06-.94-2.06-.94L8.5 2.5l-.94 2.06-2.06.94zm10 10l.94 2.06.94-2.06 2.06-.94-2.06-.94-.94-2.06-.94 2.06-2.06.94z\"/><path d=\"M17.41 7.96l-1.37-1.37c-.4-.4-.92-.59-1.43-.59-.52 0-1.04.2-1.43.59L10.3 9.45l-7.72 7.72c-.78.78-.78 2.05 0 2.83L4 21.41c.39.39.9.59 1.41.59.51 0 1.02-.2 1.41-.59l7.78-7.78 2.81-2.81c.8-.78.8-2.07 0-2.86zM5.41 20L4 18.59l7.72-7.72 1.47 1.35L5.41 20z\"/>\n",
              "  </svg>\n",
              "      </button>\n",
              "      \n",
              "  <style>\n",
              "    .colab-df-container {\n",
              "      display:flex;\n",
              "      flex-wrap:wrap;\n",
              "      gap: 12px;\n",
              "    }\n",
              "\n",
              "    .colab-df-convert {\n",
              "      background-color: #E8F0FE;\n",
              "      border: none;\n",
              "      border-radius: 50%;\n",
              "      cursor: pointer;\n",
              "      display: none;\n",
              "      fill: #1967D2;\n",
              "      height: 32px;\n",
              "      padding: 0 0 0 0;\n",
              "      width: 32px;\n",
              "    }\n",
              "\n",
              "    .colab-df-convert:hover {\n",
              "      background-color: #E2EBFA;\n",
              "      box-shadow: 0px 1px 2px rgba(60, 64, 67, 0.3), 0px 1px 3px 1px rgba(60, 64, 67, 0.15);\n",
              "      fill: #174EA6;\n",
              "    }\n",
              "\n",
              "    [theme=dark] .colab-df-convert {\n",
              "      background-color: #3B4455;\n",
              "      fill: #D2E3FC;\n",
              "    }\n",
              "\n",
              "    [theme=dark] .colab-df-convert:hover {\n",
              "      background-color: #434B5C;\n",
              "      box-shadow: 0px 1px 3px 1px rgba(0, 0, 0, 0.15);\n",
              "      filter: drop-shadow(0px 1px 2px rgba(0, 0, 0, 0.3));\n",
              "      fill: #FFFFFF;\n",
              "    }\n",
              "  </style>\n",
              "\n",
              "      <script>\n",
              "        const buttonEl =\n",
              "          document.querySelector('#df-2130eda1-18c5-455a-b32e-40ae811e99ee button.colab-df-convert');\n",
              "        buttonEl.style.display =\n",
              "          google.colab.kernel.accessAllowed ? 'block' : 'none';\n",
              "\n",
              "        async function convertToInteractive(key) {\n",
              "          const element = document.querySelector('#df-2130eda1-18c5-455a-b32e-40ae811e99ee');\n",
              "          const dataTable =\n",
              "            await google.colab.kernel.invokeFunction('convertToInteractive',\n",
              "                                                     [key], {});\n",
              "          if (!dataTable) return;\n",
              "\n",
              "          const docLinkHtml = 'Like what you see? Visit the ' +\n",
              "            '<a target=\"_blank\" href=https://colab.research.google.com/notebooks/data_table.ipynb>data table notebook</a>'\n",
              "            + ' to learn more about interactive tables.';\n",
              "          element.innerHTML = '';\n",
              "          dataTable['output_type'] = 'display_data';\n",
              "          await google.colab.output.renderOutput(dataTable, element);\n",
              "          const docLink = document.createElement('div');\n",
              "          docLink.innerHTML = docLinkHtml;\n",
              "          element.appendChild(docLink);\n",
              "        }\n",
              "      </script>\n",
              "    </div>\n",
              "  </div>\n",
              "  "
            ]
          },
          "metadata": {},
          "execution_count": 10
        }
      ]
    },
    {
      "cell_type": "code",
      "source": [
        "#part 2\n",
        "\n",
        "agent_results = model.datacollector.get_agent_vars_dataframe()\n",
        "\n",
        "\n",
        "agent_results = agent_results[agent_results[\"Trade_Network\"].notnull()]\n",
        "agent_results"
      ],
      "metadata": {
        "colab": {
          "base_uri": "https://localhost:8080/",
          "height": 455
        },
        "id": "Ufir5WUrHYbp",
        "outputId": "c4763db7-1510-43ce-b5e6-1a4c0e3ea715"
      },
      "execution_count": null,
      "outputs": [
        {
          "output_type": "execute_result",
          "data": {
            "text/plain": [
              "             Trade_Network\n",
              "Step AgentID              \n",
              "1    4138               []\n",
              "     4139           [4324]\n",
              "     4140               []\n",
              "     4141           [4321]\n",
              "     4142           [4213]\n",
              "...                    ...\n",
              "100  4318               []\n",
              "     4322               []\n",
              "     4324               []\n",
              "     4325               []\n",
              "     4330               []\n",
              "\n",
              "[12146 rows x 1 columns]"
            ],
            "text/html": [
              "\n",
              "  <div id=\"df-7fe591c0-6934-4b0f-876a-ab5c4773ad1b\">\n",
              "    <div class=\"colab-df-container\">\n",
              "      <div>\n",
              "<style scoped>\n",
              "    .dataframe tbody tr th:only-of-type {\n",
              "        vertical-align: middle;\n",
              "    }\n",
              "\n",
              "    .dataframe tbody tr th {\n",
              "        vertical-align: top;\n",
              "    }\n",
              "\n",
              "    .dataframe thead th {\n",
              "        text-align: right;\n",
              "    }\n",
              "</style>\n",
              "<table border=\"1\" class=\"dataframe\">\n",
              "  <thead>\n",
              "    <tr style=\"text-align: right;\">\n",
              "      <th></th>\n",
              "      <th></th>\n",
              "      <th>Trade_Network</th>\n",
              "    </tr>\n",
              "    <tr>\n",
              "      <th>Step</th>\n",
              "      <th>AgentID</th>\n",
              "      <th></th>\n",
              "    </tr>\n",
              "  </thead>\n",
              "  <tbody>\n",
              "    <tr>\n",
              "      <th rowspan=\"5\" valign=\"top\">1</th>\n",
              "      <th>4138</th>\n",
              "      <td>[]</td>\n",
              "    </tr>\n",
              "    <tr>\n",
              "      <th>4139</th>\n",
              "      <td>[4324]</td>\n",
              "    </tr>\n",
              "    <tr>\n",
              "      <th>4140</th>\n",
              "      <td>[]</td>\n",
              "    </tr>\n",
              "    <tr>\n",
              "      <th>4141</th>\n",
              "      <td>[4321]</td>\n",
              "    </tr>\n",
              "    <tr>\n",
              "      <th>4142</th>\n",
              "      <td>[4213]</td>\n",
              "    </tr>\n",
              "    <tr>\n",
              "      <th>...</th>\n",
              "      <th>...</th>\n",
              "      <td>...</td>\n",
              "    </tr>\n",
              "    <tr>\n",
              "      <th rowspan=\"5\" valign=\"top\">100</th>\n",
              "      <th>4318</th>\n",
              "      <td>[]</td>\n",
              "    </tr>\n",
              "    <tr>\n",
              "      <th>4322</th>\n",
              "      <td>[]</td>\n",
              "    </tr>\n",
              "    <tr>\n",
              "      <th>4324</th>\n",
              "      <td>[]</td>\n",
              "    </tr>\n",
              "    <tr>\n",
              "      <th>4325</th>\n",
              "      <td>[]</td>\n",
              "    </tr>\n",
              "    <tr>\n",
              "      <th>4330</th>\n",
              "      <td>[]</td>\n",
              "    </tr>\n",
              "  </tbody>\n",
              "</table>\n",
              "<p>12146 rows × 1 columns</p>\n",
              "</div>\n",
              "      <button class=\"colab-df-convert\" onclick=\"convertToInteractive('df-7fe591c0-6934-4b0f-876a-ab5c4773ad1b')\"\n",
              "              title=\"Convert this dataframe to an interactive table.\"\n",
              "              style=\"display:none;\">\n",
              "        \n",
              "  <svg xmlns=\"http://www.w3.org/2000/svg\" height=\"24px\"viewBox=\"0 0 24 24\"\n",
              "       width=\"24px\">\n",
              "    <path d=\"M0 0h24v24H0V0z\" fill=\"none\"/>\n",
              "    <path d=\"M18.56 5.44l.94 2.06.94-2.06 2.06-.94-2.06-.94-.94-2.06-.94 2.06-2.06.94zm-11 1L8.5 8.5l.94-2.06 2.06-.94-2.06-.94L8.5 2.5l-.94 2.06-2.06.94zm10 10l.94 2.06.94-2.06 2.06-.94-2.06-.94-.94-2.06-.94 2.06-2.06.94z\"/><path d=\"M17.41 7.96l-1.37-1.37c-.4-.4-.92-.59-1.43-.59-.52 0-1.04.2-1.43.59L10.3 9.45l-7.72 7.72c-.78.78-.78 2.05 0 2.83L4 21.41c.39.39.9.59 1.41.59.51 0 1.02-.2 1.41-.59l7.78-7.78 2.81-2.81c.8-.78.8-2.07 0-2.86zM5.41 20L4 18.59l7.72-7.72 1.47 1.35L5.41 20z\"/>\n",
              "  </svg>\n",
              "      </button>\n",
              "      \n",
              "  <style>\n",
              "    .colab-df-container {\n",
              "      display:flex;\n",
              "      flex-wrap:wrap;\n",
              "      gap: 12px;\n",
              "    }\n",
              "\n",
              "    .colab-df-convert {\n",
              "      background-color: #E8F0FE;\n",
              "      border: none;\n",
              "      border-radius: 50%;\n",
              "      cursor: pointer;\n",
              "      display: none;\n",
              "      fill: #1967D2;\n",
              "      height: 32px;\n",
              "      padding: 0 0 0 0;\n",
              "      width: 32px;\n",
              "    }\n",
              "\n",
              "    .colab-df-convert:hover {\n",
              "      background-color: #E2EBFA;\n",
              "      box-shadow: 0px 1px 2px rgba(60, 64, 67, 0.3), 0px 1px 3px 1px rgba(60, 64, 67, 0.15);\n",
              "      fill: #174EA6;\n",
              "    }\n",
              "\n",
              "    [theme=dark] .colab-df-convert {\n",
              "      background-color: #3B4455;\n",
              "      fill: #D2E3FC;\n",
              "    }\n",
              "\n",
              "    [theme=dark] .colab-df-convert:hover {\n",
              "      background-color: #434B5C;\n",
              "      box-shadow: 0px 1px 3px 1px rgba(0, 0, 0, 0.15);\n",
              "      filter: drop-shadow(0px 1px 2px rgba(0, 0, 0, 0.3));\n",
              "      fill: #FFFFFF;\n",
              "    }\n",
              "  </style>\n",
              "\n",
              "      <script>\n",
              "        const buttonEl =\n",
              "          document.querySelector('#df-7fe591c0-6934-4b0f-876a-ab5c4773ad1b button.colab-df-convert');\n",
              "        buttonEl.style.display =\n",
              "          google.colab.kernel.accessAllowed ? 'block' : 'none';\n",
              "\n",
              "        async function convertToInteractive(key) {\n",
              "          const element = document.querySelector('#df-7fe591c0-6934-4b0f-876a-ab5c4773ad1b');\n",
              "          const dataTable =\n",
              "            await google.colab.kernel.invokeFunction('convertToInteractive',\n",
              "                                                     [key], {});\n",
              "          if (!dataTable) return;\n",
              "\n",
              "          const docLinkHtml = 'Like what you see? Visit the ' +\n",
              "            '<a target=\"_blank\" href=https://colab.research.google.com/notebooks/data_table.ipynb>data table notebook</a>'\n",
              "            + ' to learn more about interactive tables.';\n",
              "          element.innerHTML = '';\n",
              "          dataTable['output_type'] = 'display_data';\n",
              "          await google.colab.output.renderOutput(dataTable, element);\n",
              "          const docLink = document.createElement('div');\n",
              "          docLink.innerHTML = docLinkHtml;\n",
              "          element.appendChild(docLink);\n",
              "        }\n",
              "      </script>\n",
              "    </div>\n",
              "  </div>\n",
              "  "
            ]
          },
          "metadata": {},
          "execution_count": 11
        }
      ]
    },
    {
      "cell_type": "code",
      "source": [
        "results.plot(y = \"Trader\", use_index=True)"
      ],
      "metadata": {
        "colab": {
          "base_uri": "https://localhost:8080/",
          "height": 283
        },
        "id": "bQ64Y_z2AoCM",
        "outputId": "fba7f1fa-81f2-4669-ecd0-10eaf0993f77"
      },
      "execution_count": null,
      "outputs": [
        {
          "output_type": "execute_result",
          "data": {
            "text/plain": [
              "<matplotlib.axes._subplots.AxesSubplot at 0x7f85ed0a7250>"
            ]
          },
          "metadata": {},
          "execution_count": 12
        },
        {
          "output_type": "display_data",
          "data": {
            "text/plain": [
              "<Figure size 432x288 with 1 Axes>"
            ],
            "image/png": "[encoded data removed]"
          },
          "metadata": {
            "needs_background": "light"
          }
        }
      ]
    },
    {
      "cell_type": "code",
      "source": [
        "# plot\n",
        "#part 2a\n",
        "results.plot(y = \"Price\", use_index=True)"
      ],
      "metadata": {
        "colab": {
          "base_uri": "https://localhost:8080/",
          "height": 283
        },
        "id": "UqgsSo3z-cOq",
        "outputId": "d9d94008-5d56-47aa-e3a8-114bb3e5ba5c"
      },
      "execution_count": null,
      "outputs": [
        {
          "output_type": "execute_result",
          "data": {
            "text/plain": [
              "<matplotlib.axes._subplots.AxesSubplot at 0x7f85ecf87ed0>"
            ]
          },
          "metadata": {},
          "execution_count": 13
        },
        {
          "output_type": "display_data",
          "data": {
            "text/plain": [
              "<Figure size 432x288 with 1 Axes>"
            ],
            "image/png": "[encoded data removed]"
          },
          "metadata": {
            "needs_background": "light"
          }
        }
      ]
    },
    {
      "cell_type": "code",
      "source": [
        "#part 2b\n",
        "plt.bar(results.index, results[\"Trade volume\"])"
      ],
      "metadata": {
        "colab": {
          "base_uri": "https://localhost:8080/",
          "height": 283
        },
        "id": "0tvo7AAE_cp-",
        "outputId": "473dc496-eaec-471c-8d59-2d92c91246fc"
      },
      "execution_count": null,
      "outputs": [
        {
          "output_type": "execute_result",
          "data": {
            "text/plain": [
              "<BarContainer object of 100 artists>"
            ]
          },
          "metadata": {},
          "execution_count": 14
        },
        {
          "output_type": "display_data",
          "data": {
            "text/plain": [
              "<Figure size 432x288 with 1 Axes>"
            ],
            "image/png": "[encoded data removed]"
          },
          "metadata": {
            "needs_background": "light"
          }
        }
      ]
    },
    {
      "cell_type": "markdown",
      "source": [
        "**Part 3**\n",
        "\n",
        "---------------------------------------------------------------------\n",
        "\n",
        "For the agent variable we will repsents a historgram of th enumber of trade \n",
        "partners of each agent. As you can see we get a heavy tailed distribution where most agents have a small number of trading partners but a small number of agents have a lot of trading partners. \n",
        "\n",
        "## Change to network!!!!"
      ],
      "metadata": {
        "id": "grkfK-59XFng"
      }
    },
    {
      "cell_type": "code",
      "source": [
        "network_hist = [len(trade) for  trade in list(agent_results[\"Trade_Network\"])]\n",
        "\n",
        "plt.hist(network_hist)\n",
        "#"
      ],
      "metadata": {
        "id": "2wYHFu5N_y-y",
        "colab": {
          "base_uri": "https://localhost:8080/",
          "height": 338
        },
        "outputId": "48e9b5a8-b47f-408f-fa5e-cf17ef420efe"
      },
      "execution_count": null,
      "outputs": [
        {
          "output_type": "execute_result",
          "data": {
            "text/plain": [
              "(array([7847., 1485.,  873.,  364.,  467.,  426.,  289.,  282.,   84.,\n",
              "          29.]),\n",
              " array([ 0. ,  2.7,  5.4,  8.1, 10.8, 13.5, 16.2, 18.9, 21.6, 24.3, 27. ]),\n",
              " <a list of 10 Patch objects>)"
            ]
          },
          "metadata": {},
          "execution_count": 15
        },
        {
          "output_type": "display_data",
          "data": {
            "text/plain": [
              "<Figure size 432x288 with 1 Axes>"
            ],
            "image/png": "[encoded data removed]"
          },
          "metadata": {
            "needs_background": "light"
          }
        }
      ]
    },
    {
      "cell_type": "markdown",
      "source": [
        "# Plot on a network\n",
        "\n",
        "1st we need to do the graph"
      ],
      "metadata": {
        "id": "Zfpu8xIWwdmv"
      }
    },
    {
      "cell_type": "code",
      "source": [
        "G = nx.Graph()\n",
        "#add agent keys to make initial node set\n",
        "G.add_nodes_from(list(model.schedule.agents_by_type[Trader].keys()))\n",
        "#create edge list\n",
        "for key, value in agent_results.iterrows(): \n",
        "  #print(key, value)\n",
        "  if len(value[\"Trade_Network\"]) > 0: \n",
        "    for agent in value[\"Trade_Network\"]:\n",
        "      G.add_edge(key[1], agent)\n"
      ],
      "metadata": {
        "id": "yJ8Wd9yJWykl"
      },
      "execution_count": null,
      "outputs": []
    },
    {
      "cell_type": "code",
      "source": [
        "nx.node_connectivity(G), nx.average_clustering(G), nx.diameter(G), nx.global_efficiency(G)"
      ],
      "metadata": {
        "colab": {
          "base_uri": "https://localhost:8080/"
        },
        "id": "rui-ajhqQl0I",
        "outputId": "b034c4f2-3a83-43fe-f0a0-da2225581c2f"
      },
      "execution_count": null,
      "outputs": [
        {
          "output_type": "execute_result",
          "data": {
            "text/plain": [
              "(1, 0.3268677529148174, 7, 0.38079128204767304)"
            ]
          },
          "metadata": {},
          "execution_count": 24
        }
      ]
    },
    {
      "cell_type": "code",
      "source": [
        "degree_sequence = sorted((d for n, d in G.degree()), reverse=True)\n",
        "plt.bar(*np.unique(degree_sequence, return_counts=True))"
      ],
      "metadata": {
        "colab": {
          "base_uri": "https://localhost:8080/",
          "height": 283
        },
        "id": "PHujiTSLb-cV",
        "outputId": "a9f5ed40-2208-429f-def6-09e7103c70c3"
      },
      "execution_count": null,
      "outputs": [
        {
          "output_type": "execute_result",
          "data": {
            "text/plain": [
              "<BarContainer object of 32 artists>"
            ]
          },
          "metadata": {},
          "execution_count": 27
        },
        {
          "output_type": "display_data",
          "data": {
            "text/plain": [
              "<Figure size 432x288 with 1 Axes>"
            ],
            "image/png": "[encoded data removed]"
          },
          "metadata": {
            "needs_background": "light"
          }
        }
      ]
    },
    {
      "cell_type": "code",
      "source": [
        "nx.draw(G)"
      ],
      "metadata": {
        "colab": {
          "base_uri": "https://localhost:8080/",
          "height": 319
        },
        "id": "19s5ZOllzq40",
        "outputId": "3870812b-9e2b-4d7c-e71c-78f22bf6c16e"
      },
      "execution_count": null,
      "outputs": [
        {
          "output_type": "display_data",
          "data": {
            "text/plain": [
              "<Figure size 432x288 with 1 Axes>"
            ],
            "image/png": "[encoded data removed]"
          },
          "metadata": {}
        }
      ]
    }
  ]
}