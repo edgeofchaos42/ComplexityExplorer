{
  "nbformat": 4,
  "nbformat_minor": 0,
  "metadata": {
    "colab": {
      "name": "Session 10 - Traders move part 2.ipynb",
      "provenance": [],
      "collapsed_sections": [],
      "include_colab_link": true
    },
    "kernelspec": {
      "name": "python3",
      "display_name": "Python 3"
    },
    "language_info": {
      "name": "python"
    }
  },
  "cells": [
    {
      "cell_type": "markdown",
      "metadata": {
        "id": "view-in-github",
        "colab_type": "text"
      },
      "source": [
        "<a href=\"https://colab.research.google.com/github/edgeofchaos42/ComplexityExplorer/blob/main/Session_10_Traders_move_part_2.ipynb\" target=\"_parent\"><img src=\"https://colab.research.google.com/assets/colab-badge.svg\" alt=\"Open In Colab\"/></a>"
      ]
    },
    {
      "cell_type": "markdown",
      "source": [
        "### 1- Review lesson 9 and intro\n",
        "\n",
        "Script Notes: \n",
        "\n",
        "In lesson 9 we introduced the dynamics of agent sequencing and began the move function with agents finding all their neighbors without an agent. In this lesson we are going caluclate of those options which one is best and closest. \n",
        "\n",
        "Remember if you shut down your colab kernel you will need to add the sugar-map.txt file again or you can mount your drive and not have to load it every time   \n",
        "\n",
        "*Review each class and model set up*"
      ],
      "metadata": {
        "id": "1WxZVj47O4g0"
      }
    },
    {
      "cell_type": "code",
      "source": [
        "from google.colab import drive\n",
        "drive.mount('/content/drive')"
      ],
      "metadata": {
        "colab": {
          "base_uri": "https://localhost:8080/"
        },
        "id": "CCWF0WnCu1_3",
        "outputId": "4728911e-05ca-4fb6-c4af-ef35f9a1f13b"
      },
      "execution_count": 1,
      "outputs": [
        {
          "output_type": "stream",
          "name": "stdout",
          "text": [
            "Mounted at /content/drive\n"
          ]
        }
      ]
    },
    {
      "cell_type": "code",
      "source": [
        "try: \n",
        "  import mesa\n",
        "except: \n",
        "  !pip install mesa --quiet\n",
        "  import mesa\n",
        "import numpy as np\n",
        "import matplotlib.pyplot as plt\n",
        "\n",
        "\n",
        "\n",
        "%matplotlib inline "
      ],
      "metadata": {
        "id": "R-uRKmZUxS2S",
        "colab": {
          "base_uri": "https://localhost:8080/"
        },
        "outputId": "06250f59-a431-4940-87d5-edd54f1d409c"
      },
      "execution_count": 2,
      "outputs": [
        {
          "output_type": "stream",
          "name": "stdout",
          "text": [
            "\u001b[K     |████████████████████████████████| 2.5 MB 22.7 MB/s \n",
            "\u001b[K     |████████████████████████████████| 596 kB 43.5 MB/s \n",
            "\u001b[K     |████████████████████████████████| 64 kB 2.6 MB/s \n",
            "\u001b[?25h"
          ]
        }
      ]
    },
    {
      "cell_type": "code",
      "source": [
        "class Sugar(mesa.Agent):\n",
        "    \"\"\"\n",
        "    Sugar is a FSM that\n",
        "    - contains an amount of sugar\n",
        "    - grows 1 amount of sugar at each turn (rule G1).\n",
        "    \"\"\"\n",
        "    \n",
        "    \n",
        "    def __init__(self, unique_id, model, pos, max_sugar): \n",
        "      super().__init__(unique_id, model) #part 3\n",
        "      self.pos = pos\n",
        "      self.amount = max_sugar\n",
        "      self.max_sugar = max_sugar\n",
        "\n",
        "    def step(self): #Part 1\n",
        "      self.amount = min([self.max_sugar,self.amount+1])\n",
        "      \n",
        "      "
      ],
      "metadata": {
        "id": "qLn3pp5X1Cp2"
      },
      "execution_count": 3,
      "outputs": []
    },
    {
      "cell_type": "code",
      "source": [
        "class Spice(mesa.Agent):\n",
        "    \"\"\"\n",
        "    Spice is a FSM that\n",
        "    - contains an amount of spice\n",
        "    - grows 1 amount of spice at each turn. (rule G1)\n",
        "    \"\"\"\n",
        "\n",
        "    def __init__(self, unique_id, model, pos, max_spice): \n",
        "        super().__init__(unique_id, model) \n",
        "        self.pos = pos\n",
        "        self.amount = max_spice\n",
        "        self.max_spice = max_spice\n",
        "\n",
        "    def step(self): #Part 1\n",
        "      self.amount = min([self.max_spice,self.amount+1])\n",
        "       "
      ],
      "metadata": {
        "id": "vWcWMp2My8tJ"
      },
      "execution_count": 4,
      "outputs": []
    },
    {
      "cell_type": "markdown",
      "source": [
        "## Add Trader welfare function \n",
        "\n",
        "**Part 1**\n",
        "\n",
        "------------\n",
        "\n",
        "We now have  list of every cell in our vision that does not already have an agent on it. \n",
        "\n",
        "so we want to determine which cell to move to based on which cell will produce the most welfare.  \n",
        "\n",
        "so we will take our list of neighbors and iterate through each one and then add a calcuate welfare_function but to do this we need to know how much sugar and spice are in the space. At this point our code is getting more complicated so it is important to add comments so people know how the code fits together and also so you can remind yourself. \n",
        "\n",
        "\n",
        "So the equation we are using is found on page 97 if you have the book and it is the functional form of the cobb-douglas function. You can see the generalizable function from the [link on the course page](https://inomics.com/terms/cobb-douglas-production-function-1456726#:~:text=A%20Cobb%2DDouglas%20production%20function,technological%20change%20in%20production%20methods.) But what this does is adjust the agents decision making based on how much sugar and spice they have relative to their metabolism  so they make an optimal decision based on their vision.  \n",
        "\n",
        "we print to make sure it is producing results, but we are only doing the sugar and spice in our possession we need to add the sugar and spice in the cell we are condidering moving too\n",
        "\n",
        "**Part 2**\n",
        "\n",
        "--------\n",
        "\n",
        "\n",
        "To get the amount of sugar and spice in the cell we are considering moving to we will add the helper function get sugar amount and get spice amount, as we will at some point need to get the sugar and spice to add to our resources and remove from the cell this we will be create two functions.\n",
        "\n",
        "As this not necessarily intuitive, Let me describe it this way every agent has to consider its options and then make a choice. If we seperate out those to actions - consideration and action then this will allow us to reuse the functions later. \n",
        "\n",
        "To do this and keep our code compact we are going to add the result of our get sugar and get spice function to the list comprehension\n",
        "\n",
        "then build our 2 functions, first get sugar amount which will call our second function that we can also use we when we move to the best cell and harvest the sugar... so then we build our get_sugar function \n",
        "\n",
        "this uses mesas get cell list contents function which is in the model, grid we intiaited with the model, we then iterate through the contents and if the agent is sugar we return it and if not we return None\n",
        "\n",
        "We then go back to our get sugar amount function and if there is a sugar patch, so not None then we get the amount if not then we return None. \n",
        "\n",
        "I am going to test by adding a print statement just to make sure we are getting something reasonable form the sugar patch which we are. \n",
        "\n",
        "Next we do the same thing for spice. \n",
        "\n",
        "We test with some print statements\n",
        "\n",
        "It looks as if everything is working so thins concludes session 10 we have added functions to agents can determine the the best potential choice to move to, now we will \n",
        "\n"
      ],
      "metadata": {
        "id": "9Mxm0q6pAxUq"
      }
    },
    {
      "cell_type": "code",
      "source": [
        "class Trader(mesa.Agent):\n",
        "    \"\"\"\n",
        "    TraderAgent is a \n",
        "    - has a metabolism for sugar and spice\n",
        "    - harvest and trades sugar and spice to survive and thrive\n",
        "    \"\"\"\n",
        "\n",
        "    def __init__(self, unique_id, model,pos,moore=False, sugar=0, \n",
        "                 spice=0, metabolism_sugar=0, metabolism_spice=0,\n",
        "                 vision=0): \n",
        "      super().__init__(unique_id, model)\n",
        "      self.pos = pos \n",
        "      self.moore = False \n",
        "      self.sugar = sugar \n",
        "      self.spice = spice \n",
        "      self.metabolism_sugar=metabolism_sugar \n",
        "      self.metabolism_spice=metabolism_spice \n",
        "      self.vision = vision \n",
        "\n",
        "  \n",
        "    def get_sugar(self, pos): #part 2\n",
        "      '''\n",
        "      used in get_sugar_amount\n",
        "      '''\n",
        "      this_cell = self.model.grid.get_cell_list_contents(pos)\n",
        "      for agent in this_cell:\n",
        "          if type(agent) is Sugar:\n",
        "              return agent\n",
        "      return None\n",
        "    \n",
        "    \n",
        "    def get_sugar_amount(self, pos):\n",
        "      '''\n",
        "      used in move()\n",
        "      '''\n",
        "      \n",
        "      sugar_patch = self.get_sugar(pos)\n",
        "      if sugar_patch:\n",
        "          return sugar_patch.amount\n",
        "      return 0\n",
        "    \n",
        "    \n",
        "    def get_spice(self, pos):\n",
        "      '''\n",
        "      used in get_spice_amount\n",
        "      '''\n",
        "      this_cell = self.model.grid.get_cell_list_contents(pos)\n",
        "      for agent in this_cell:\n",
        "          if type(agent) is Spice:\n",
        "              return agent\n",
        "      return None\n",
        "        \n",
        "    \n",
        "    def get_spice_amount(self, pos):\n",
        "        '''\n",
        "        used in move()\n",
        "        '''\n",
        "\n",
        "        spice_patch = self.get_spice(pos)\n",
        "        if spice_patch: \n",
        "          return spice_patch.amount\n",
        "        return 0\n",
        "\n",
        "    \n",
        "    def is_occupied(self, pos): \n",
        "      '''\n",
        "      Helper function for move\n",
        "      '''\n",
        "      \n",
        "      this_cell = self.model.grid.get_cell_list_contents(pos)\n",
        "      for a in this_cell:\n",
        "          if isinstance(a, Trader) and a.pos != self.pos:\n",
        "              return True\n",
        "      return False\n",
        "       \n",
        "    def calculate_welfare(self, sugar, spice): #This will be built to be like the exmaple later with none, but right now it wouldn't make any sense\n",
        "      '''\n",
        "      Helper function for move\n",
        "      '''\n",
        "\n",
        "      #calculate total resources\n",
        "      m_total = self.metabolism_sugar + self.metabolism_spice\n",
        "      #Cobb-Douglas functional form\n",
        "      return sugar** (self.metabolism_sugar/m_total) * spice ** (\n",
        "          self.metabolism_spice/m_total)\n",
        "    \n",
        "    \n",
        "    def move(self): \n",
        "           \n",
        "      # 1. Get neighbors within vision\n",
        "\n",
        "      neighbors = [i \n",
        "                   for i in self.model.grid.get_neighborhood(\n",
        "                       self.pos, self.moore,True, self.vision\n",
        "                       )\n",
        "                   if not self.is_occupied(i)\n",
        "      ]\n",
        "\n",
        "      # 2. Find the patch which porduce the maximum welfare. \n",
        "\n",
        "      #welfares = [self.calculate_welfare(self.sugar, self.spice) for pos in neighbors]  #part 1\n",
        "\n",
        "      welfares = [\n",
        "            self.calculate_welfare(\n",
        "                self.sugar + self.get_sugar_amount(pos),\n",
        "                self.spice + self.get_spice_amount(pos),\n",
        "            )\n",
        "            for pos in neighbors] #part 2\n",
        "\n",
        "     \n",
        "      \n",
        "      print(welfares)\n",
        "\n"
      ],
      "metadata": {
        "id": "89x-JNt-zQmK"
      },
      "execution_count": 17,
      "outputs": []
    },
    {
      "cell_type": "markdown",
      "source": [
        "## Add Trader randomize and move\n",
        "\n",
        "\n",
        "\n",
        "\n"
      ],
      "metadata": {
        "id": "QuNoa2uzKon_"
      }
    },
    {
      "cell_type": "code",
      "source": [
        "class SugarscapeG1mt(mesa.Model):\n",
        "\n",
        "  def __init__(self, width=50, height=50, initial_population=100,\n",
        "               endowment_min =25, endowment_max =50, metabolism_min = 1,\n",
        "                 metabolism_max = 5, vision_min = 1, vision_max =5): \n",
        "    \n",
        "    self.width = width\n",
        "    self.height = height\n",
        "    self.initial_population =initial_population \n",
        "    self.endowment_min = endowment_min \n",
        "    self.endowment_max = endowment_max \n",
        "    self.metabolism_min = metabolism_min\n",
        "    self.metabolism_max = metabolism_max\n",
        "    self.vision_min = vision_min\n",
        "    self.vision_max = vision_max\n",
        "\n",
        "\n",
        "    self.schedule = mesa.time.RandomActivationByType(self)\n",
        "    self.grid = mesa.space.MultiGrid(self.width, self.height, torus=True)\n",
        "\n",
        "    sugar_distribution = np.genfromtxt(\"/content/drive/MyDrive/sugar-map.txt\") \n",
        "    spice_distribution = spice = np.flip(sugar_distribution,1)\n",
        "    \n",
        "    #ensure unique id\n",
        "    agent_id = 0\n",
        "    for _, x, y in self.grid.coord_iter(): \n",
        "      max_sugar = sugar_distribution[x,y]\n",
        "      if max_sugar > 0: \n",
        "        sugar = Sugar(agent_id, self, (x,y),max_sugar)\n",
        "        self.grid.place_agent(sugar, (x, y))\n",
        "        #Place Agent\n",
        "        self.schedule.add(sugar) \n",
        "        agent_id += 1\n",
        "\n",
        "      max_spice = spice_distribution[x,y]\n",
        "      if max_spice > 0: \n",
        "        spice = Spice(agent_id, self, (x,y), max_spice)\n",
        "        self.grid.place_agent(spice,(x,y))\n",
        "        self.schedule.add(spice)\n",
        "        agent_id += 1\n",
        "         \n",
        "    \n",
        "    for i in range(self.initial_population):\n",
        "      #get agent position\n",
        "      x = self.random.randrange(self.width) \n",
        "      y = self.random.randrange(self.height) \n",
        "      # See GAS page 108 for parameters initialization.\n",
        "      # Each agent is endowed by a random amount of sugar and spice\n",
        "      sugar = self.random.uniform(self.endowment_min, self.endowment_max+1) \n",
        "      spice = self.random.uniform(self.endowment_min, self.endowment_max+1) \n",
        "      #add metabolism also on page #108\n",
        "      metabolism_sugar = self.random.uniform(self.metabolism_min, self.metabolism_max)\n",
        "      metabolism_spice = self.random.uniform(self.metabolism_min, self.metabolism_max)\n",
        "      #add vision\n",
        "      vision =int(self.random.uniform(self.vision_min, self.vision_max))\n",
        "      trader = Trader(\n",
        "                agent_id,\n",
        "                self,\n",
        "                (x, y),\n",
        "                False,\n",
        "                sugar,\n",
        "                spice,\n",
        "                metabolism_sugar,\n",
        "                metabolism_spice,\n",
        "                vision,\n",
        "            )\n",
        "      self.grid.place_agent(trader, (x, y))\n",
        "      self.schedule.add(trader)\n",
        "      agent_id += 1\n",
        "\n",
        "  def step(self): \n",
        "    \n",
        "    for sugar in self.schedule.agents_by_type[Sugar].values(): \n",
        "      sugar.step()\n",
        "    \n",
        "    for spice in self.schedule.agents_by_type[Spice].values(): \n",
        "      spice.step()\n",
        "    \n",
        "    Traders = self.schedule.agents_by_type[Trader].values()\n",
        "    Trader_shuffle = list(Traders)\n",
        "    self.random.shuffle(Trader_shuffle)\n",
        "    for agent in Trader_shuffle: \n",
        "      agent.move()  \n",
        "    \n",
        "    self.schedule.time +=1\n",
        "    self.schedule.steps += 1\n",
        "    \n",
        "\n",
        "  \n",
        "  def run_model(self, step_count=1000):\n",
        "    \n",
        "    for i in range(step_count):\n",
        "      self.step()\n",
        "      \n",
        "\n",
        "    #self.schedule.step()_\n",
        "\n",
        "        "
      ],
      "metadata": {
        "id": "V3yTkyWz0Pi9"
      },
      "execution_count": 18,
      "outputs": []
    },
    {
      "cell_type": "markdown",
      "source": [
        "## Model Run \n"
      ],
      "metadata": {
        "id": "kYXO-SNTPnC-"
      }
    },
    {
      "cell_type": "code",
      "source": [
        "model = SugarscapeG1mt()\n",
        "model.run_model(step_count=1)\n",
        "\n"
      ],
      "metadata": {
        "id": "wbZ1-r5q1fe1"
      },
      "execution_count": null,
      "outputs": []
    }
  ]
}