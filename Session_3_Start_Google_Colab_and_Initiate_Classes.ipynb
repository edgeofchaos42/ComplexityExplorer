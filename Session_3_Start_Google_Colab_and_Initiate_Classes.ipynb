{
  "nbformat": 4,
  "nbformat_minor": 0,
  "metadata": {
    "colab": {
      "name": "Session 3 -Start Google Colab and Initiate Classes.ipynb",
      "provenance": [],
      "collapsed_sections": [],
      "include_colab_link": true
    },
    "kernelspec": {
      "name": "python3",
      "display_name": "Python 3"
    },
    "language_info": {
      "name": "python"
    }
  },
  "cells": [
    {
      "cell_type": "markdown",
      "metadata": {
        "id": "view-in-github",
        "colab_type": "text"
      },
      "source": [
        "<a href=\"https://colab.research.google.com/github/edgeofchaos42/ComplexityExplorer/blob/main/Session_3_Start_Google_Colab_and_Initiate_Classes.ipynb\" target=\"_parent\"><img src=\"https://colab.research.google.com/assets/colab-badge.svg\" alt=\"Open In Colab\"/></a>"
      ]
    },
    {
      "cell_type": "markdown",
      "source": [
        "**Concept** Text fields will give a loose script and the the *talent* will type the the code as they are recording. In post production we can speed this part. If the audio is choppy we could even record the audio seperately. "
      ],
      "metadata": {
        "id": "d9QxSC43it5G"
      }
    },
    {
      "cell_type": "markdown",
      "source": [
        "### 1- Install Mesa\n",
        "\n",
        "Script Notes: \n",
        "\n",
        "Welcome to Session 3, in this session we are going to load our sugar and spice landscape and initialize our model with this landscape. To do this we need to first get our development environment set up. As operating systems are different this can cause a lot of variance and issues. So we will use Google Colab to ensure we all have the same environments. This does require a google account. If you have python and/or jupyter on you local machine you can do that as well but there may be some slight issues.\n",
        "\n",
        "You can either search for colab or look in the assignments page for the link [colab here](https://colab.research.google.com/?utm_source=scs-index).  \n",
        "\n",
        "Then we create a new notebook and we will name it Sugarscape\n",
        "\n",
        "**Action** Create new notebook \n",
        "\n",
        "Although Jupyter is awesome it is not the best choice if you continue to create ABMs. If you are new Python there are a lot of integrated devleopment environments you can install on your computer that can make coding easier. \n",
        "\n",
        "In the assignments page is a link to an [overview from Real Python](https://realpython.com/python-ides-code-editors-guide/#:~:text=An%20IDE%20(or%20Integrated%20Development,syntax%20highlighting%20and%20auto%2Dcompletion) about IDEs\n",
        "\n",
        "*Not sure how to share this will ask Leah*\n",
        "\n",
        "Mesa is not a standard install for Colab so first we need to install it\n",
        "\n",
        "**ACTION** Write code install line\n",
        "\n"
      ],
      "metadata": {
        "id": "1WxZVj47O4g0"
      }
    },
    {
      "cell_type": "code",
      "execution_count": null,
      "metadata": {
        "id": "4WLq5KlVQK6X"
      },
      "outputs": [],
      "source": [
        "!pip install mesa"
      ]
    },
    {
      "cell_type": "markdown",
      "source": [
        "## 1b Import Dependencies\n",
        "\n",
        "We will reserve this cell for all the packages we use to build Sugarscape. One of the main advantages of progrmaming is Python is the ability to import the vast amount of knowledge stored across Mesa's ecosystem to make more complex and realistic models. \n",
        "\n",
        "Obviously one of the first libraries we will need to import is mesa. We will add to this cell as needed throughout the model devleopment process. "
      ],
      "metadata": {
        "id": "JQqr3lzZxUio"
      }
    },
    {
      "cell_type": "code",
      "source": [
        "import mesa"
      ],
      "metadata": {
        "id": "R-uRKmZUxS2S"
      },
      "execution_count": 3,
      "outputs": []
    },
    {
      "cell_type": "markdown",
      "source": [
        "## 2 - Initialize The Classes\n",
        "Script Notes: \n",
        "\n",
        "Mesa takes advantage of Python's object oriented programming by creating classes of the key parts of the model we can encapsulate behvaiors and attributes of our agents whether sugar, spice or trader and allow variance among each of those objects. The creates the ideal paradigm for an agent based model where a heteregneous poplation can interact based on the unique circumstances to produce emergent behavior.   \n",
        "\n",
        "Here is a quick picture of the classess we will build in this tutorial (show picture). As we are creating an interdependent system. We will build simplistic versions of each class and then expand them making their behavior more complicated to porduce complex interactions\n",
        "\n",
        "The first agent will be the Sugar Resource agent\n",
        "\n",
        "\n"
      ],
      "metadata": {
        "id": "rR-oT8138T1W"
      }
    },
    {
      "cell_type": "code",
      "source": [
        "class Sugar(mesa.Agent):\n",
        "    \"\"\"\n",
        "    Sugar is a FSM that\n",
        "    - contains an amount of sugar\n",
        "    - grows 1 amount of sugar at each turn (Epstein's rule G1).\n",
        "    \"\"\"\n",
        "    \n",
        "    \n",
        "    def __init__(self):\n",
        "        print(\"I am a Sugar\")"
      ],
      "metadata": {
        "id": "qLn3pp5X1Cp2"
      },
      "execution_count": 10,
      "outputs": []
    },
    {
      "cell_type": "markdown",
      "source": [
        "Next is the spice agent"
      ],
      "metadata": {
        "id": "f1zVm1sXyyd4"
      }
    },
    {
      "cell_type": "code",
      "source": [
        "class Spice(mesa.Agent):\n",
        "    \"\"\"\n",
        "    Spice is a FSM that\n",
        "    - contains an amount of spice\n",
        "    - grows 1 amount of spice at each turn.\n",
        "    \"\"\"\n",
        "\n",
        "    def __init__(self):\n",
        "      print(\"I am Spice\")\n",
        "       "
      ],
      "metadata": {
        "id": "vWcWMp2My8tJ"
      },
      "execution_count": 9,
      "outputs": []
    },
    {
      "cell_type": "markdown",
      "source": [
        "Then the SugarScape Agent"
      ],
      "metadata": {
        "id": "YiJLL4Y8zSpO"
      }
    },
    {
      "cell_type": "code",
      "source": [
        "class Trader(mesa.Agent):\n",
        "    \"\"\"\n",
        "    TraderAgent is a \n",
        "    - has a metabolism for sugar and spice\n",
        "    - harvest and trades sugar and spice to survive and thrive\n",
        "    \"\"\"\n",
        "\n",
        "    def __init__(self):\n",
        "      print(\"I am a Trader\")"
      ],
      "metadata": {
        "id": "89x-JNt-zQmK"
      },
      "execution_count": 14,
      "outputs": []
    },
    {
      "cell_type": "markdown",
      "source": [
        "Finally we create our model class. This is the manager which will initaite and control the interactions of each of the agents. \n",
        "\n",
        "Although it does doe anything we will set up a dummy model just to link everything toegther. "
      ],
      "metadata": {
        "id": "302jsdc00G9O"
      }
    },
    {
      "cell_type": "code",
      "source": [
        "class SugarscapeG1mt(mesa.Model):\n",
        "\n",
        "  def __init__(self): \n",
        "    self.spice = Spice()\n",
        "    self.sugar = Sugar()\n",
        "    self.trader = Trader()\n"
      ],
      "metadata": {
        "id": "V3yTkyWz0Pi9"
      },
      "execution_count": 15,
      "outputs": []
    },
    {
      "cell_type": "markdown",
      "source": [
        "Finally we will create a run cell that will initaite our models or models. "
      ],
      "metadata": {
        "id": "kIZgcmbwzy35"
      }
    },
    {
      "cell_type": "code",
      "source": [
        "model = SugarscapeG1mt()"
      ],
      "metadata": {
        "colab": {
          "base_uri": "https://localhost:8080/"
        },
        "id": "wbZ1-r5q1fe1",
        "outputId": "6475b084-96a6-4263-b655-85f4ae23764e"
      },
      "execution_count": 16,
      "outputs": [
        {
          "output_type": "stream",
          "name": "stdout",
          "text": [
            "I am Spice\n",
            "I am a Sugar\n",
            "I am a Trader\n"
          ]
        }
      ]
    },
    {
      "cell_type": "markdown",
      "source": [
        "This concludes session 3 in the next session we will create our sugar and spice agents. "
      ],
      "metadata": {
        "id": "NhtKbMFkHlQD"
      }
    }
  ]
}