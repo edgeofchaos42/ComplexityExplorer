{
  "nbformat": 4,
  "nbformat_minor": 0,
  "metadata": {
    "colab": {
      "name": "Session 7 -add Traders.ipynb",
      "provenance": [],
      "collapsed_sections": [],
      "include_colab_link": true
    },
    "kernelspec": {
      "name": "python3",
      "display_name": "Python 3"
    },
    "language_info": {
      "name": "python"
    }
  },
  "cells": [
    {
      "cell_type": "markdown",
      "metadata": {
        "id": "view-in-github",
        "colab_type": "text"
      },
      "source": [
        "<a href=\"https://colab.research.google.com/github/edgeofchaos42/ComplexityExplorer/blob/main/Session_7_add_Traders.ipynb\" target=\"_parent\"><img src=\"https://colab.research.google.com/assets/colab-badge.svg\" alt=\"Open In Colab\"/></a>"
      ]
    },
    {
      "cell_type": "markdown",
      "source": [
        "### 1- Review lesson 5 and intro\n",
        "\n",
        "Script Notes: \n",
        "\n",
        "(Have all cells run prior to recording and map loaded) \n",
        "\n",
        "In lesson six we finished agentizing the landscape, by creating our sugar and spice  agents, who were added to our schedule and landscape. Remember if you shut down your colab kernel you will need to add the sugar-map.txt file again   \n",
        "\n",
        "Now we want to add Trader agents who can harvest and trade the sugar and spice\n",
        "\n",
        "\n",
        "Review each class and model set up"
      ],
      "metadata": {
        "id": "1WxZVj47O4g0"
      }
    },
    {
      "cell_type": "code",
      "source": [
        "try: \n",
        "  import mesa\n",
        "except: \n",
        "  !pip install mesa --quiet\n",
        "  import mesa\n",
        "import numpy as np\n",
        "import matplotlib.pyplot as plt\n",
        "\n",
        "\n",
        "\n",
        "%matplotlib inline "
      ],
      "metadata": {
        "id": "R-uRKmZUxS2S"
      },
      "execution_count": 8,
      "outputs": []
    },
    {
      "cell_type": "code",
      "source": [
        "class Sugar(mesa.Agent):\n",
        "    \"\"\"\n",
        "    Sugar is a FSM that\n",
        "    - contains an amount of sugar\n",
        "    - grows 1 amount of sugar at each turn (Epstein's rule G1).\n",
        "    \"\"\"\n",
        "    \n",
        "    \n",
        "    def __init__(self, unique_id, model, pos, max_sugar): #part 3\n",
        "        super().__init__(unique_id, model) #part 3\n",
        "        self.pos = pos\n",
        "        self.amount = max_sugar\n",
        "        self.max_sugar = max_sugar"
      ],
      "metadata": {
        "id": "qLn3pp5X1Cp2"
      },
      "execution_count": 3,
      "outputs": []
    },
    {
      "cell_type": "code",
      "source": [
        "class Spice(mesa.Agent):\n",
        "    \"\"\"\n",
        "    Spice is a FSM that\n",
        "    - contains an amount of spice\n",
        "    - grows 1 amount of spice at each turn.\n",
        "    \"\"\"\n",
        "\n",
        "    def __init__(self, unique_id, model, pos, max_spice): \n",
        "        super().__init__(unique_id, model) \n",
        "        self.pos = pos\n",
        "        self.amount = max_spice\n",
        "        self.max_spice = max_spice\n",
        "       "
      ],
      "metadata": {
        "id": "vWcWMp2My8tJ"
      },
      "execution_count": 9,
      "outputs": []
    },
    {
      "cell_type": "markdown",
      "source": [
        "**Part 2**:\n",
        "\n",
        "As the Traders are more complicated agents we add parameters to initiate our agents we will add them here as well to ensure they both match.\n",
        "\n",
        "First we need to do the standard unique_id and model with the super_init to inherit form the parent class. \n",
        "\n",
        "Then the random position we just initiated. As we are talking position, it is also immportnat to know the difference between [moore](https://en.wikipedia.org/wiki/Moore_neighborhood) and [von neuman](https://en.wikipedia.org/wiki/Von_Neumann_neighborhood) neighborhoods.  (show difference) \n",
        "\n",
        "Per Growing Artificial Societies we will use von neuman. As the keyword for mesa space is moore, we will mimic this and set moore to false\n",
        "\n",
        "**Part 3**:\n",
        "\n",
        "Now we add the endowments. now as we started key words must continue that or we will get an error, so first we add the sugar and then spice. For the agent this is how much sugr and spice they have so we will add to this as they trade and harvest and so just call them sugar and spice. \n",
        "\n",
        "**Part 4**:\n",
        "\n",
        "Now we add metabolism using the key words metabolism sugar and metabolism spice. That we will pass in form the model\n",
        "\n",
        "**Part 5**:\n",
        "\n",
        "Finally we add vision"
      ],
      "metadata": {
        "id": "aFMjpgrQlNwN"
      }
    },
    {
      "cell_type": "code",
      "source": [
        "class Trader(mesa.Agent):\n",
        "    \"\"\"\n",
        "    TraderAgent is a \n",
        "    - has a metabolism for sugar and spice\n",
        "    - harvest and trades sugar and spice to survive and thrive\n",
        "    \"\"\"\n",
        "\n",
        "    def __init__(self, unique_id, model,pos,moore=False, sugar=0, \n",
        "                 spice=0, metabolism_sugar=0, metabolism_spice=0,\n",
        "                 vision=0): \n",
        "      super().__init__(unique_id, model)\n",
        "      self.pos = pos #part 2\n",
        "      self.moore = False #part 2\n",
        "      self.sugar = sugar #part 3\n",
        "      self.spice = spice #part 3\n",
        "      self.metabolism_sugar=metabolism_sugar, #part 4\n",
        "      self.metabolism_spice=metabolism_spice, #part 4\n",
        "      self.vision = vision #part 5\n",
        "\n",
        "      "
      ],
      "metadata": {
        "id": "89x-JNt-zQmK"
      },
      "execution_count": 10,
      "outputs": []
    },
    {
      "cell_type": "markdown",
      "source": [
        "## 2 Add Traders\n",
        "\n",
        "First to add traders we will add another key word argument, initial population. Again using Growing Artifical Societies as our model we will have an initial population of 100.  \n",
        "\n",
        "---\n",
        "**Part 1**: Now we create another for loop to instantiate our Trader agents. Make sure your for loop is at the same indentation level as the sugar and spice agents otherwise you could get 100 hundred Traders for every sugar and or spice agent created. \n",
        "\n",
        "---\n",
        "\n",
        "**Part 2**:\n",
        "\n",
        "For this loop we will use pythons range function, with the initial population attribute. Now we have to give the agents position, intial sugar and spice holdings and metabolism. For this we will use the same instantiations as growing artifical societies. As mesa `model.py` library uses pythons random library we will `self.random`, later we may add a seed to aid in results replication, but right now we not as the psuedo randomness can help with debugging. \n",
        "\n",
        "---\n",
        "**Part 3:**\n",
        "\n",
        "Now we add the intialize endowment for each agent. We will initialize these askeyword argument endowment_min and endowment max. This will also allow us to demonstrate batch_runner in a later lesson.  We then add this to our Trader object\n",
        "\n",
        "**Part 4:**\n",
        "\n",
        "Now each agents needs a metabolism and vision. Metabolisms determine how much sugar and spice each agent burns for each step. Again these are uniformly distributed so we will use the uniform distribution with key word argument. vision determines how many grids the agent can see in any given direction. So an agent with 5 can see 5 grid squares while an agent with one can anly see the grids squares next to the agent. As these have the same range of 1 -5 we will just call them capability min and max.\n",
        "\n",
        "**Part 5:** \n",
        "\n",
        "Now we add the vision, a challenge here is random uniform returns a float while mesa get_neighbors which will take the vision paramter uses an integer, so we will have to convert the float into an integer\n",
        "\n",
        "**Part 6**: Now that we have created each of the attributes we need to create the agents, add them to the scheduler and add them to the grid and then we make sure we iterate the agent\n",
        "\n",
        "We will also add a print statement to see how our code is doing"
      ],
      "metadata": {
        "id": "RsPaTj2b4wxn"
      }
    },
    {
      "cell_type": "code",
      "source": [
        "class SugarscapeG1mt(mesa.Model):\n",
        "\n",
        "  #part 0\n",
        "  def __init__(self, width=50, height=50, initial_population=100,\n",
        "               endowment_min =25, endowment_max =50, metabolism_min =1,\n",
        "               metabolism_max = 5, capability_min=1, capability_max=5): \n",
        "    \n",
        "    self.width = width\n",
        "    self.height = height\n",
        "    self.initial_population =initial_population #part 0\n",
        "    self.endowment_min = endowment_min #part3\n",
        "    self.endowment_max = endowment_max #part3\n",
        "    self.capability_min = capability_min #part4\n",
        "    self.capability_max = capability_max #part4\n",
        "\n",
        "\n",
        "    self.schedule = mesa.time.RandomActivationByType(self)\n",
        "    self.grid = mesa.space.MultiGrid(self.width, self.height, torus=False)\n",
        "\n",
        "    sugar_distribution = np.genfromtxt(\"sugar-map.txt\") \n",
        "    spice_distribution = spice = np.flip(sugar_distribution,1)\n",
        "    \n",
        "    #ensure unique id\n",
        "    agent_id = 0\n",
        "    for _, x, y in self.grid.coord_iter(): \n",
        "      max_sugar = sugar_distribution[x,y]\n",
        "      if max_sugar > 0: \n",
        "        sugar = Sugar(agent_id, self, (x,y),max_sugar)\n",
        "        self.grid.place_agent(sugar, (x, y))\n",
        "        #Place Agent\n",
        "        self.schedule.add(sugar) \n",
        "        agent_id += 1\n",
        "\n",
        "      max_spice = spice_distribution[x,y]\n",
        "      if max_spice > 0: \n",
        "        spice = Spice(agent_id, self, (x,y), max_spice)\n",
        "        self.grid.place_agent(spice,(x,y))\n",
        "        self.schedule.add(spice)\n",
        "        agent_id += 1\n",
        "         \n",
        "    # part 1\n",
        "    for i in range(self.initial_population):\n",
        "      #get agent position\n",
        "      x = self.random.randrange(self.width) #part 2a\n",
        "      y = self.random.randrange(self.height) #part 2a  \n",
        "      # See GAS page 108 for parameters initialization.\n",
        "      # Each agent is endowed by a random amount of sugar and spice\n",
        "      sugar = self.random.uniform(self.endowment_min, self.endowment_max+1) #part 3\n",
        "      spice = self.random.uniform(self.endowment_min, self.endowment_max+1) #part 3\n",
        "      #add metabolism also on page #108\n",
        "      metabolism_sugar = self.random.uniform(self.capability_min, self.capability_max)\n",
        "      metabolism_spice = self.random.uniform(self.capability_min, self.capability_max)\n",
        "      #add vision\n",
        "      vision =int(self.random.uniform(self.capability_min, self.capability_max))\n",
        "      trader = Trader(\n",
        "                agent_id,\n",
        "                self,\n",
        "                (x, y),\n",
        "                False,\n",
        "                sugar,\n",
        "                spice,\n",
        "                metabolism_sugar,\n",
        "                metabolism_spice,\n",
        "                vision,\n",
        "            )\n",
        "      self.grid.place_agent(trader, (x, y))\n",
        "      self.schedule.add(trader)\n",
        "      print(trader.unique_id, trader.pos, trader.sugar, trader.metabolism_spice)\n",
        "      agent_id += 1\n",
        "\n",
        "        "
      ],
      "metadata": {
        "id": "V3yTkyWz0Pi9"
      },
      "execution_count": 15,
      "outputs": []
    },
    {
      "cell_type": "code",
      "source": [
        "model = SugarscapeG1mt()"
      ],
      "metadata": {
        "id": "wbZ1-r5q1fe1"
      },
      "execution_count": null,
      "outputs": []
    },
    {
      "cell_type": "markdown",
      "source": [
        "We have no complete initiating our model, next step is to create behvarios to watch the interactons proceed. "
      ],
      "metadata": {
        "id": "hmzgLix12tf7"
      }
    }
  ]
}