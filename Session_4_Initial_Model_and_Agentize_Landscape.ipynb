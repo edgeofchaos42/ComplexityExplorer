{
  "nbformat": 4,
  "nbformat_minor": 0,
  "metadata": {
    "colab": {
      "name": "Session 4 - Initial Model and Agentize Landscape.ipynb",
      "provenance": [],
      "collapsed_sections": [],
      "include_colab_link": true
    },
    "kernelspec": {
      "name": "python3",
      "display_name": "Python 3"
    },
    "language_info": {
      "name": "python"
    }
  },
  "cells": [
    {
      "cell_type": "markdown",
      "metadata": {
        "id": "view-in-github",
        "colab_type": "text"
      },
      "source": [
        "<a href=\"https://colab.research.google.com/github/edgeofchaos42/ComplexityExplorer/blob/main/Session_4_Initial_Model_and_Agentize_Landscape.ipynb\" target=\"_parent\"><img src=\"https://colab.research.google.com/assets/colab-badge.svg\" alt=\"Open In Colab\"/></a>"
      ]
    },
    {
      "cell_type": "markdown",
      "source": [
        "**Concept** Text fields will give a loose script and the the *talent* will type the the code as they are recording. In post production we can speed this part. If the audio is choppy we could even record the audio seperately. "
      ],
      "metadata": {
        "id": "d9QxSC43it5G"
      }
    },
    {
      "cell_type": "markdown",
      "source": [
        "### 1- Previous code\n",
        "\n",
        "\n"
      ],
      "metadata": {
        "id": "1WxZVj47O4g0"
      }
    },
    {
      "cell_type": "code",
      "execution_count": null,
      "metadata": {
        "id": "4WLq5KlVQK6X"
      },
      "outputs": [],
      "source": [
        "!pip install git+https://github.com/projectmesa/mesa"
      ]
    },
    {
      "cell_type": "code",
      "source": [
        "import numpy as np\n",
        "import matplotlib.pyplot as plt\n",
        "\n",
        "\n",
        "\n",
        "%matplotlib inline "
      ],
      "metadata": {
        "id": "fz7ecfD-kImT"
      },
      "execution_count": null,
      "outputs": []
    },
    {
      "cell_type": "markdown",
      "source": [
        "## Upload the terrain\n",
        "\n",
        "\n"
      ],
      "metadata": {
        "id": "rR-oT8138T1W"
      }
    },
    {
      "cell_type": "code",
      "source": [
        "#Action 1\n",
        "with open('SugarSpice.npy', 'rb') as f:\n",
        "    land = np.load(f)\n",
        "\n",
        "np.shape(land), np.shape(land[0]) # Action 2"
      ],
      "metadata": {
        "colab": {
          "base_uri": "https://localhost:8080/"
        },
        "id": "qLn3pp5X1Cp2",
        "outputId": "3695a1b7-0408-4652-c274-56b44e1ecfc4"
      },
      "execution_count": null,
      "outputs": [
        {
          "output_type": "execute_result",
          "data": {
            "text/plain": [
              "((2, 50, 50), (50, 50))"
            ]
          },
          "metadata": {},
          "execution_count": 3
        }
      ]
    },
    {
      "cell_type": "code",
      "source": [
        "plt.imshow(land[0], origin=\"lower\") #Action 2, do 0 and then 1"
      ],
      "metadata": {
        "colab": {
          "base_uri": "https://localhost:8080/",
          "height": 283
        },
        "id": "uhr7rjknfsDC",
        "outputId": "64dc6318-40ae-422b-b16e-7d28ce26348e"
      },
      "execution_count": null,
      "outputs": [
        {
          "output_type": "execute_result",
          "data": {
            "text/plain": [
              "<matplotlib.image.AxesImage at 0x7fa80be2e8d0>"
            ]
          },
          "metadata": {},
          "execution_count": 6
        },
        {
          "output_type": "display_data",
          "data": {
            "text/plain": [
              "<Figure size 432x288 with 1 Axes>"
            ],
            "image/png": "[encoded data removed]"
          },
          "metadata": {
            "needs_background": "light"
          }
        }
      ]
    },
    {
      "cell_type": "markdown",
      "source": [
        "## 1 - agentize the Landscape \n",
        "\n",
        " Welcome to session 4! In this session we are going to create our initial model and we are going to convert the sugar and spice landscape into the agents which will allow our traders can survive and trade.\n",
        "\n",
        " Rembmer if you stooped your colab kenerl you will need to reload your landscape and reinstall mesa\n",
        "\n",
        "   The first thing we want to do for this session is add mesa to our list of imports. (Do this in import cell)\n",
        "\n",
        "  **ACTION** Do Import\n",
        "\n",
        "#  "
      ],
      "metadata": {
        "id": "TQpelEzCBONv"
      }
    },
    {
      "cell_type": "code",
      "source": [
        "import numpy as np\n",
        "import matplotlib.pyplot as plt\n",
        "\n",
        "import mesa\n",
        "\n",
        "%matplotlib inline \n"
      ],
      "metadata": {
        "id": "60CBIlK1app2"
      },
      "execution_count": null,
      "outputs": []
    },
    {
      "cell_type": "markdown",
      "source": [
        "## 2 - agentize the Landscape \n",
        "\n",
        "  Second we want to upload our sugar and spice values into an agent. Each resource agent will be a python object. To create these agents we will create the ResourceAgent class and we will inherit the Agent class from mesa so critical functionality like leveraging the step function is already taken care of \n",
        "\n",
        "  **ACTION 1** Write class \n",
        "\n",
        "  Then we want to intiialize the class. The agent must have the unique-id parameter so mesa can manage all the agents and we will also add a pointer to the model (more on this later). As these attributes are part of mesa we can use Python's super_init function to inherit them. \n",
        "\n",
        "  **Action 1a** Show source code for walk from [mesa](https://github.com/projectmesa/mesa) to [agent](https://github.com/projectmesa/mesa/blob/main/mesa/agent.py)\n",
        "  \n",
        "  **Action 2** Start init\n",
        "\n",
        "  As their ID is also their location on the grid since they cannot move we will also add the position attribute\n",
        "  \n",
        "  **Action 3** add position\n",
        "\n",
        "  Next we will add the agent attributes. In this case how much sugar the agent has and how much spice.\n",
        "\n",
        "  "
      ],
      "metadata": {
        "id": "GsT-yHi1J_bz"
      }
    },
    {
      "cell_type": "code",
      "source": [
        "class ResourceAgent(mesa.Agent): # Action 1 \n",
        "    \n",
        "    def __init__(self, unique_id, model):\n",
        "        super().__init__(unique_id, model) #Action 2\n",
        "        self.pos = unique_id #Action 3"
      ],
      "metadata": {
        "id": "oH1zn4A4CsDk"
      },
      "execution_count": null,
      "outputs": []
    },
    {
      "cell_type": "markdown",
      "source": [
        "## 3 - agentize the Landscape \n",
        "\n",
        "*NOTE: Don't make new cells just run the cell and then do the below in the same cell!!!*\n",
        "\n",
        "  unique_id and model are common for all mesa models so you will see this code again when we build our trader agents. \n",
        "\n",
        "  for the resource agents however, we want to pass in their sugar and spice values so we will add the sugar and spice attributes, but numerous different approaches could achieve this outcome.\n",
        "\n",
        "  **Action 1** Add parameter\n",
        "\n",
        "If we remember from our upload of the landscape the data structure is a matrix or list of lists with the first list being the sugar value and the second list being the spice values. This will tell us how to take the information from the list and transform it to an agent attribute. As the traders harvest, consume and trade these raw materials we actually need to create five attributes - \n",
        "\n",
        "First lets add the current value of the sugar and spice\n",
        "\n",
        "**Action 2** : add value_sug, value_spice\n",
        "\n",
        "Second, we need to use this same value to add the max value that resource agent can grow of its respective sugar and spice  resources\n",
        "\n",
        "**Action 3** add max_sug and max_spice\n",
        "\n",
        "Third, we need to add the rate at which the value regrows, there are numerous possibilites here. We could make it a parameter so we could run different variations of the model or pass in a distribution so each resource agents has a different regrow rate or whatever else you can imagine. In this case we will stick with 1 as that is what was in *Growing Artifical Societies*\n",
        "\n",
        "**Action 4** Add regrow\n",
        "\n",
        "Finally, a Python feature that will help us later is is we `type` our agent to be `resource` and we can also leverage Python private string attribute to make our coding easier as the model gets more complex\n",
        "\n",
        "**Action 5** Add type and str"
      ],
      "metadata": {
        "id": "2JKw8GYEMIJz"
      }
    },
    {
      "cell_type": "code",
      "source": [
        "class ResourceAgent(mesa.Agent): # Action 1 \n",
        "    \n",
        "    def __init__(self, unique_id, model, sugar, spice): # Action 1\n",
        "        super().__init__(unique_id, model) #Action 1\n",
        "        self.pos = unique_id\n",
        "        self.value_sug = sugar # Action 2\n",
        "        self.value_spice = spice # Action 2\n",
        "        self.max_sug = sugar # Action 3\n",
        "        self.max_spice = spice #Action 3\n",
        "        self.regrow = 1 # Action 4\n",
        "        self.type = \"resource\" #Action 5\n",
        "        \n",
        "    def __str__(self): #Action 5\n",
        "        return \"Resource\" #Action 5. "
      ],
      "metadata": {
        "id": "xPMPXnCkLpsI"
      },
      "execution_count": null,
      "outputs": []
    },
    {
      "cell_type": "markdown",
      "source": [
        "## 4 create the model\n",
        "\n",
        "Now that we have created the initial resource agent class and laoded the the npy file of our landscape. We need to conect this class into the intiailization of a mesa model. \n",
        "\n",
        "To do this we will create another class class TraderScape. This class will be the main manager for the entire model. It will initialize all the agents and manage their interactions and their sequence of movements. This type of set up is standard for all mesa models. If you are using .py files these different cells would typically be different .py files.  \n",
        "\n",
        "**Action 1**: Initial Traderscape\n",
        "\n",
        "To initialize our model we will have two parameters, self per python convention and landscape to pass in the numpy file. We will also add three attributes, the width which will be 50 per the npy file, the height, again it will be size 50 and finally the grid on which the location of the agent will be placed. To follow the principle of least surprise mesa models list width (or x axis) and then y (or y axis). The model will work if you do it the other way but keeping this convention will make model development easier. As resource agents and trader agents can be at the same location we will use Mesa's multigrid.\n",
        "\n",
        "**action 1a**: Show source code for Show source code for walk from [mesa](https://github.com/projectmesa/mesa) to [space and multigrid](https://github.com/projectmesa/mesa/blob/main/mesa/space.py)\n",
        "\n",
        "**Action 2** add width, height and multigrid\n",
        "\n",
        "Now we want to create some code to convert the numpy array into the agent attributes, for this will use a for loop in a for loop. To iterate through the x values and then y values. Think of this as building stacks of blocks with x being the location of the stack and y being the height. We then build each stack to 50 before moving to the next stack of blocks. \n",
        "\n",
        "**Action 3** add x loop, add y loop\n",
        "\n",
        "Now that we have the basic structure a resource agent and a mesa model we can initialize an instance of our model. \n",
        "\n",
        "**Action 4** Initialize model \n",
        "\n"
      ],
      "metadata": {
        "id": "T_QTJWyke4ZR"
      }
    },
    {
      "cell_type": "code",
      "source": [
        "class TraderScape(mesa.Model): #Action 1\n",
        "\n",
        "  def __init__(self,land): #Action 1\n",
        "    \n",
        "    self.width = 50 #Action 2\n",
        "    self.height = 50 #Action 2\n",
        "    self.grid = mesa.space.MultiGrid(self.width, self.height, torus=True)  #New  #Action 2\n",
        "\n",
        "    #places resources from landscape on grid\n",
        "    for x in range(50): #action 3\n",
        "      for y in range(50): #action 3\n",
        "        sugar = land[0][x][y] \n",
        "        spice = land[1][x][y]\n",
        "        resource =  ResourceAgent((x,y),self,sugar,spice)\n",
        "        \n",
        "        self.grid.place_agent(resource, (x,y))"
      ],
      "metadata": {
        "id": "M6InF3C4BNF3"
      },
      "execution_count": null,
      "outputs": []
    },
    {
      "cell_type": "code",
      "source": [
        "#Test\n",
        "TraderScape(land) #Action 4 "
      ],
      "metadata": {
        "id": "ZXhs5BjNYw9F"
      },
      "execution_count": null,
      "outputs": []
    },
    {
      "cell_type": "markdown",
      "source": [
        "## 5 Verify the model\n",
        "\n",
        "\n",
        "Well it ran without error but what happened. To show part of the model initialization we can add print statements. This will also show the `self.type` atrribute works\n",
        "\n",
        "**Action 1**: add print resource to model --- then clear output\n",
        "\n",
        "string function work\n",
        "\n",
        "**Action 2** add string statement - then clear output\n"
      ],
      "metadata": {
        "id": "41N0v8gPshWw"
      }
    },
    {
      "cell_type": "code",
      "source": [
        "class TraderScape(mesa.Model): \n",
        "\n",
        "  def __init__(self,land): \n",
        "    \n",
        "    self.width = 50 \n",
        "    self.height = 50 \n",
        "    self.grid = mesa.space.MultiGrid(self.width, self.height, torus=True)  \n",
        "\n",
        "    #places resources from landscape on grid\n",
        "    for x in range(50): \n",
        "      for y in range(50): \n",
        "        sugar = land[0][x][y] \n",
        "        spice = land[1][x][y]\n",
        "        resource =  ResourceAgent((x,y),self,sugar,spice)\n",
        "        #print(resource) # #Action 1\n",
        "        print(resource.value_sug) #Action 2 d\n",
        "        self.grid.place_agent(resource, (x,y))"
      ],
      "metadata": {
        "id": "NzJYwvcXY7CS"
      },
      "execution_count": null,
      "outputs": []
    },
    {
      "cell_type": "code",
      "source": [
        "#Test\n",
        "TraderScape(land) #Notes: Run three time"
      ],
      "metadata": {
        "id": "j-Vto9J4BHHm"
      },
      "execution_count": null,
      "outputs": []
    },
    {
      "cell_type": "markdown",
      "source": [
        "This concludes session 4 in the next session we will add the trader agents into the model. "
      ],
      "metadata": {
        "id": "NhtKbMFkHlQD"
      }
    }
  ]
}