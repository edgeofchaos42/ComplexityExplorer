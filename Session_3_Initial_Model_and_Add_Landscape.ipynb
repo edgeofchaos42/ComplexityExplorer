{
  "nbformat": 4,
  "nbformat_minor": 0,
  "metadata": {
    "colab": {
      "name": "Session 3 - Initial Model and Add Landscape.ipynb",
      "provenance": [],
      "collapsed_sections": [],
      "include_colab_link": true
    },
    "kernelspec": {
      "name": "python3",
      "display_name": "Python 3"
    },
    "language_info": {
      "name": "python"
    }
  },
  "cells": [
    {
      "cell_type": "markdown",
      "metadata": {
        "id": "view-in-github",
        "colab_type": "text"
      },
      "source": [
        "<a href=\"https://colab.research.google.com/github/edgeofchaos42/ComplexityExplorer/blob/main/Session_3_Initial_Model_and_Add_Landscape.ipynb\" target=\"_parent\"><img src=\"https://colab.research.google.com/assets/colab-badge.svg\" alt=\"Open In Colab\"/></a>"
      ]
    },
    {
      "cell_type": "markdown",
      "source": [
        "**Concept** Text fields will give a loose script and the the *talent* will type the the code as they are recording. In post production we can speed this part. If the audio is choppy we could even record the audio seperately. "
      ],
      "metadata": {
        "id": "d9QxSC43it5G"
      }
    },
    {
      "cell_type": "markdown",
      "source": [
        "### 1- Install Mesa\n",
        "\n",
        "Script Notes: \n",
        "\n",
        "To build Sugarscape first we need to get our environment set up. As operating systems are different this can cause a lot of variance and issues. So we will use Googlge Colab to ensure we all have the same environments. This does require a google account. If you have python and/or jupyter on you local machine you can do that as well but there may be some slight issues.\n",
        "\n",
        "You can either search for colab or look in the assignments page for the link [colab here](https://colab.research.google.com/?utm_source=scs-index).  \n",
        "\n",
        "Then we create a new notebook and we will name it Sugarscape\n",
        "\n",
        "**Action** Create new notebook \n",
        "\n",
        "Although Jupyter is awesome it is not the best choice if you continue to create ABMs. If you are new Python there are a lot of integrated devleopment environments you can install on your computer that can make coding easier. \n",
        "\n",
        "In the assignments page is a link to an [overview from Real Python](https://realpython.com/python-ides-code-editors-guide/#:~:text=An%20IDE%20(or%20Integrated%20Development,syntax%20highlighting%20and%20auto%2Dcompletion) about IDEs\n",
        "\n",
        "*Not sure how to share this will ask Leah*\n",
        "\n",
        "Mesa is not a standard install for Colab so first we need to install it\n",
        "\n",
        "**ACTION** Write code install line\n",
        "\n"
      ],
      "metadata": {
        "id": "1WxZVj47O4g0"
      }
    },
    {
      "cell_type": "code",
      "execution_count": 2,
      "metadata": {
        "colab": {
          "base_uri": "https://localhost:8080/"
        },
        "id": "4WLq5KlVQK6X",
        "outputId": "86a4ab3a-ef43-4404-b965-d97874310f16"
      },
      "outputs": [
        {
          "output_type": "stream",
          "name": "stdout",
          "text": [
            "Requirement already satisfied: mesa in /usr/local/lib/python3.7/dist-packages (0.9.0)\n",
            "Requirement already satisfied: tqdm in /usr/local/lib/python3.7/dist-packages (from mesa) (4.64.0)\n",
            "Requirement already satisfied: cookiecutter in /usr/local/lib/python3.7/dist-packages (from mesa) (1.7.3)\n",
            "Requirement already satisfied: tornado in /usr/local/lib/python3.7/dist-packages (from mesa) (5.1.1)\n",
            "Requirement already satisfied: pandas in /usr/local/lib/python3.7/dist-packages (from mesa) (1.3.5)\n",
            "Requirement already satisfied: click in /usr/local/lib/python3.7/dist-packages (from mesa) (7.1.2)\n",
            "Requirement already satisfied: networkx in /usr/local/lib/python3.7/dist-packages (from mesa) (2.6.3)\n",
            "Requirement already satisfied: numpy in /usr/local/lib/python3.7/dist-packages (from mesa) (1.21.6)\n",
            "Requirement already satisfied: requests>=2.23.0 in /usr/local/lib/python3.7/dist-packages (from cookiecutter->mesa) (2.23.0)\n",
            "Requirement already satisfied: jinja2-time>=0.2.0 in /usr/local/lib/python3.7/dist-packages (from cookiecutter->mesa) (0.2.0)\n",
            "Requirement already satisfied: six>=1.10 in /usr/local/lib/python3.7/dist-packages (from cookiecutter->mesa) (1.15.0)\n",
            "Requirement already satisfied: Jinja2<4.0.0,>=2.7 in /usr/local/lib/python3.7/dist-packages (from cookiecutter->mesa) (2.11.3)\n",
            "Requirement already satisfied: poyo>=0.5.0 in /usr/local/lib/python3.7/dist-packages (from cookiecutter->mesa) (0.5.0)\n",
            "Requirement already satisfied: binaryornot>=0.4.4 in /usr/local/lib/python3.7/dist-packages (from cookiecutter->mesa) (0.4.4)\n",
            "Requirement already satisfied: python-slugify>=4.0.0 in /usr/local/lib/python3.7/dist-packages (from cookiecutter->mesa) (6.1.2)\n",
            "Requirement already satisfied: chardet>=3.0.2 in /usr/local/lib/python3.7/dist-packages (from binaryornot>=0.4.4->cookiecutter->mesa) (3.0.4)\n",
            "Requirement already satisfied: MarkupSafe>=0.23 in /usr/local/lib/python3.7/dist-packages (from Jinja2<4.0.0,>=2.7->cookiecutter->mesa) (2.0.1)\n",
            "Requirement already satisfied: arrow in /usr/local/lib/python3.7/dist-packages (from jinja2-time>=0.2.0->cookiecutter->mesa) (1.2.2)\n",
            "Requirement already satisfied: text-unidecode>=1.3 in /usr/local/lib/python3.7/dist-packages (from python-slugify>=4.0.0->cookiecutter->mesa) (1.3)\n",
            "Requirement already satisfied: idna<3,>=2.5 in /usr/local/lib/python3.7/dist-packages (from requests>=2.23.0->cookiecutter->mesa) (2.10)\n",
            "Requirement already satisfied: urllib3!=1.25.0,!=1.25.1,<1.26,>=1.21.1 in /usr/local/lib/python3.7/dist-packages (from requests>=2.23.0->cookiecutter->mesa) (1.24.3)\n",
            "Requirement already satisfied: certifi>=2017.4.17 in /usr/local/lib/python3.7/dist-packages (from requests>=2.23.0->cookiecutter->mesa) (2021.10.8)\n",
            "Requirement already satisfied: python-dateutil>=2.7.0 in /usr/local/lib/python3.7/dist-packages (from arrow->jinja2-time>=0.2.0->cookiecutter->mesa) (2.8.2)\n",
            "Requirement already satisfied: typing-extensions in /usr/local/lib/python3.7/dist-packages (from arrow->jinja2-time>=0.2.0->cookiecutter->mesa) (4.2.0)\n",
            "Requirement already satisfied: pytz>=2017.3 in /usr/local/lib/python3.7/dist-packages (from pandas->mesa) (2022.1)\n"
          ]
        }
      ],
      "source": [
        "!pip install mesa"
      ]
    },
    {
      "cell_type": "markdown",
      "source": [
        "## 2a - Upload the terrain\n",
        "\n",
        "Script Notes: \n",
        "\n",
        "The first thing we want to do is load the terrain from **GET LOCATION FOR STUDENTS TO DOWNLOAD**\n",
        "\n",
        "This is a numpy or numerical python file. \n",
        "\n",
        "**ACTION**: Show how to load file\n",
        "\n",
        "Now we want to get the data so we can put it in our model.\n",
        "\n",
        "**Action**: Write code \n",
        "\n",
        "The file is a matrix of the sugar and spice values for each grid location on a cartesian plane. The data structure is list of lists. With 2 lists one for the sugar values and one for the spice values. Then each of those lists is then a list with 50 lists for each x location. and each x location list is 50 long for each y location. Where the location is detemrined by the index of the value based on its location.\n",
        "\n",
        "You can see this structure with the numpy shape command, and numpy shape against the first list\n",
        "\n",
        "**Action:** Show shape\n",
        "\n",
        "\n"
      ],
      "metadata": {
        "id": "rR-oT8138T1W"
      }
    },
    {
      "cell_type": "code",
      "source": [
        "#Action 1\n",
        "import numpy as np\n",
        "\n",
        "\n",
        "with open('SugarSpice.npy', 'rb') as f:\n",
        "    land = np.load(f)\n",
        "\n",
        "np.shape(land), np.shape(land[0]) # Action 2"
      ],
      "metadata": {
        "colab": {
          "base_uri": "https://localhost:8080/"
        },
        "id": "qLn3pp5X1Cp2",
        "outputId": "0b393566-f6b8-4d83-8e94-64799816d0cf"
      },
      "execution_count": 3,
      "outputs": [
        {
          "output_type": "execute_result",
          "data": {
            "text/plain": [
              "((2, 50, 50), (50, 50))"
            ]
          },
          "metadata": {},
          "execution_count": 3
        }
      ]
    },
    {
      "cell_type": "markdown",
      "source": [
        "## 2b - Show terrain\n",
        "\n",
        "However visualizing the terrain is a more intutive way to ensure we have the sugar spice hills we need. To do this is fairly simple, first we import a plotting library in this case matplotlib which we want to show inline\n",
        "\n",
        "**Action 1**: import matplotlib and plot inline\n",
        "\n",
        "then we run the function to plot it. \n",
        "\n",
        "**Action 2**: first the sugar, then the spice\n",
        "\n",
        "We can also see what the grid looks like form the agent perspective where it is a terrain of numbers.\n",
        "\n",
        "**Action 3** Show number plots\n",
        "\n",
        "Now that we have verified our our landscpae we can start putting it into our model\n",
        "\n"
      ],
      "metadata": {
        "id": "BJ5PUBwDfuI0"
      }
    },
    {
      "cell_type": "code",
      "source": [
        "import matplotlib.pyplot as plt # action 1\n",
        "%matplotlib inline \n",
        "\n",
        "plt.imshow(land[0]) #Action 2, do 0 and then 1"
      ],
      "metadata": {
        "colab": {
          "base_uri": "https://localhost:8080/",
          "height": 285
        },
        "id": "uhr7rjknfsDC",
        "outputId": "833963e0-3100-48d9-de27-d6326ce797f1"
      },
      "execution_count": 7,
      "outputs": [
        {
          "output_type": "execute_result",
          "data": {
            "text/plain": [
              "<matplotlib.image.AxesImage at 0x7f08ccc554d0>"
            ]
          },
          "metadata": {},
          "execution_count": 7
        },
        {
          "output_type": "display_data",
          "data": {
            "text/plain": [
              "<Figure size 432x288 with 1 Axes>"
            ],
            "image/png": "[encoded data removed]"
          },
          "metadata": {
            "needs_background": "light"
          }
        }
      ]
    },
    {
      "cell_type": "markdown",
      "source": [
        "## 3a - agentize the Landscape \n",
        "\n",
        "  Next we are going to convert this landscape into the agents which will provide sugar and spice so our traders can survive and trade \n",
        "\n",
        "  First we want to import the mesa components to to build a model and agent. \n",
        "\n",
        "  **ACTION** Do Import\n",
        "\n",
        "  **NOTE** Will update for new namespace"
      ],
      "metadata": {
        "id": "TQpelEzCBONv"
      }
    },
    {
      "cell_type": "code",
      "source": [
        "from mesa import Agent, Model\n",
        "from mesa.space import MultiGrid"
      ],
      "metadata": {
        "id": "K-52CCWQERe2"
      },
      "execution_count": 8,
      "outputs": []
    },
    {
      "cell_type": "markdown",
      "source": [
        "## 3b - agentize the Landscape \n",
        "\n",
        "  Second we want to build our sugar and spice agents. Each resource agent will be a python object. To create these agents we will create the ResourceAgent class and we will inherit the Agent class from mesa so critical functionality like leveraging the step function is already taken care of \n",
        "\n",
        "  **ACTION 1** Write class \n",
        "\n",
        "  Then we want to intiialize the class. The agent must have the unique-id parameter to mesa can manage all the agents and we will also add a pointer to the model (more on this later). As these attributes are part of mesa we can use Python's super_init function to inherit them. \n",
        "  \n",
        "  **Action 2** Start init\n",
        "\n",
        "  As their ID is also their location on the grid since they cannot move we will also add the position attribute\n",
        "  \n",
        "  **Action 3** add position\n",
        "\n",
        "  Next we will add the agent attributes. In this case how much sugar the agent has and how much spice.\n",
        "\n",
        "  "
      ],
      "metadata": {
        "id": "GsT-yHi1J_bz"
      }
    },
    {
      "cell_type": "code",
      "source": [
        "class ResourceAgent(Agent): # Action 1 \n",
        "    \n",
        "    def __init__(self, unique_id, model):\n",
        "        super().__init__(unique_id, model) #Action 2\n",
        "        self.pos = unique_id #Action 3"
      ],
      "metadata": {
        "id": "oH1zn4A4CsDk"
      },
      "execution_count": 9,
      "outputs": []
    },
    {
      "cell_type": "markdown",
      "source": [
        "## 3c - agentize the Landscape \n",
        "\n",
        "*NOTE: Don't make new cells just run the cell and then do the below in the same cell!!!*\n",
        "\n",
        "  unique_id and model are common for all mesa models so you will see this code again when we build our trader agents. \n",
        "\n",
        "  for the resource agents however, we want to pass in their sugar and spice values so we will add the sugar and spice attributes, but numerous different approaches could achieve this outcome.\n",
        "\n",
        "  **Action 1** Add parameter\n",
        "\n",
        "If we remember from our upload of the landscape the data structure is a matrix or list of lists with the first list being the sugar value and the second list being the spice values. This will tell us how to take the information from the list and transform it to an agent attribute. As the traders harvest, consume and trade these raw materials we actually need to create five attributes - \n",
        "\n",
        "First lets add the current value of the sugar and spice\n",
        "\n",
        "**Action 2** : add value_sug, value_spice\n",
        "\n",
        "Second, we need to use this same value to add the max value that resource agent can grow of its respective sugar and spice  resources\n",
        "\n",
        "**Action 3** add max_sug and max_spice\n",
        "\n",
        "Third, we need to add the rate at which the value regrows, there are numerous possibilites here. We could make it a parameter so we could run different variations of the model or pass in a distribution so each resource agents has a different regrow rate or whatever else you can imagine. In this case we will stick with 1 as that is what was in *Growing Artifical Societies*\n",
        "\n",
        "**Action 4** Add regrow\n",
        "\n",
        "Finally, a Python feature that will help us later is is we `type` our agent to be `resource` and we can also leverage Python private string attribute to make our coding easier as the model gets more complex\n",
        "\n",
        "**Action 5** Add type and str"
      ],
      "metadata": {
        "id": "2JKw8GYEMIJz"
      }
    },
    {
      "cell_type": "code",
      "source": [
        "class ResourceAgent(Agent): # Action 1 \n",
        "    \n",
        "    def __init__(self, unique_id, model, sugar, spice): # Action 1\n",
        "        super().__init__(unique_id, model) #Action 1\n",
        "        self.pos = unique_id\n",
        "        self.value_sug = sugar # Action 2\n",
        "        self.value_spice = spice # Action 2\n",
        "        self.max_sug = sugar # Action 3\n",
        "        self.max_spice = spice #Action 3\n",
        "        self.regrow = 1 # Action 4\n",
        "        self.type = \"resource\" #Action 5\n",
        "        \n",
        "    def __str__(self): #Action 5\n",
        "        return \"Resource\" #Action 5. "
      ],
      "metadata": {
        "id": "xPMPXnCkLpsI"
      },
      "execution_count": 11,
      "outputs": []
    },
    {
      "cell_type": "markdown",
      "source": [
        "## 3d create the model\n",
        "\n",
        "Now that we have created the initial resource agent class using the npy file. We need to conect this class into the intiailization of a mesa model. \n",
        "\n",
        "To do this we will create another class class TraderScape. This class will be the main manager for the entire model. It will initialize all the agents and manage their interactions and their sequence of movements. This type of set up is standard for all mesa models. If you are using .py files these different cells would typically be different .py files.  \n",
        "\n",
        "**Action 1**: Initial Traderscape\n",
        "\n",
        "To initialize our model we will have four parameters, self per python convention, landscape to pass in the numpy file file. We will also add three attributes, the width which will be 50 per the npy file, the height, again it will be size 50 and finally the grid on which the location of the agent will be placed. To follow the principle of least surprise mesa models list width (or x axis) and then y (or y axis). The model will work if you do it the other way but keeping this convention will make model development easier. As resource agents and trader agents can be at the same location we will use Mesa's multigrid.\n",
        "\n",
        "**Action 2** add width, height and multigrid\n",
        "\n",
        "Now we want to create some code to convert the numpy array into the agent attributes, for this will use a for loop in a for loop. To iterate through the x values and then y values. Think of this as building stacks of blocks with x being the location of the stack and y being the height. We then build each stack to 50 before moving to the next stack of blocks. \n",
        "\n",
        "**Action 3** add x loop, add y loop\n"
      ],
      "metadata": {
        "id": "T_QTJWyke4ZR"
      }
    },
    {
      "cell_type": "code",
      "source": [
        "class TraderScape(Model): #Action 1\n",
        "\n",
        "  def __init__(self,land): #Action 1\n",
        "    \n",
        "    self.width = 50 #Action 2\n",
        "    self.height = 50 #Action 2\n",
        "    self.grid = MultiGrid(self.width, self.height, torus=True)  #New  #Action 2\n",
        "\n",
        "    #places resources from landscape on grid\n",
        "    for x in range(50): #action 3\n",
        "      for y in range(50): #action 3\n",
        "        sugar = land[0][x][y] \n",
        "        spice = land[1][x][y]\n",
        "        resource =  ResourceAgent((x,y),self,sugar,spice)\n",
        "        #print(resource) # do first show how the string works #Action 3e 2\n",
        "        print(resource.value_sug) #do second Action 3e 3\n",
        "        self.grid.place_agent(resource, (x,y))"
      ],
      "metadata": {
        "id": "M6InF3C4BNF3"
      },
      "execution_count": 16,
      "outputs": []
    },
    {
      "cell_type": "markdown",
      "source": [
        "## 3e Initiallize the model\n",
        "\n",
        "Now that we have the basic structure a resource agent and a mesa model we can initialize an instance of our model. \n",
        "\n",
        "**Action 1** Initialize model \n",
        "\n",
        "Well it ran without error but what happened. To show part of the model initialization we can add print statements. This will also show the `self.type` atrribute works\n",
        "\n",
        "**Action 2**: add print resource to model --- then clear output\n",
        "\n",
        "string function work\n",
        "\n",
        "**Action 3** add string statement - then clear output\n"
      ],
      "metadata": {
        "id": "41N0v8gPshWw"
      }
    },
    {
      "cell_type": "code",
      "source": [
        "#Test\n",
        "TraderScape(land) #Notes: Run three time"
      ],
      "metadata": {
        "id": "j-Vto9J4BHHm"
      },
      "execution_count": null,
      "outputs": []
    },
    {
      "cell_type": "markdown",
      "source": [
        "This concludes session 3 in the next session we will add the trader agents into the model. "
      ],
      "metadata": {
        "id": "NhtKbMFkHlQD"
      }
    }
  ]
}