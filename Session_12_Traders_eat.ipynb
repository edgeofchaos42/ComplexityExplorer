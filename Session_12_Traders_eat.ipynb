{
  "nbformat": 4,
  "nbformat_minor": 0,
  "metadata": {
    "colab": {
      "name": "Session 12 - Traders eat.ipynb",
      "provenance": [],
      "collapsed_sections": [],
      "include_colab_link": true
    },
    "kernelspec": {
      "name": "python3",
      "display_name": "Python 3"
    },
    "language_info": {
      "name": "python"
    }
  },
  "cells": [
    {
      "cell_type": "markdown",
      "metadata": {
        "id": "view-in-github",
        "colab_type": "text"
      },
      "source": [
        "<a href=\"https://colab.research.google.com/github/edgeofchaos42/ComplexityExplorer/blob/main/Session_12_Traders_eat.ipynb\" target=\"_parent\"><img src=\"https://colab.research.google.com/assets/colab-badge.svg\" alt=\"Open In Colab\"/></a>"
      ]
    },
    {
      "cell_type": "markdown",
      "source": [
        "### 1- Review lesson 11 and intro\n",
        "\n",
        "Script Notes: \n",
        "\n",
        "In lesson 11 we finished traders moving so now all our traders on a new cell within their vision that maximizes their welfare. THe next step is to get htem to eat.     \n",
        "\n",
        "Remember if you shut down your colab kernel you will need to add the sugar-map.txt file again or you can mount your drive and not have to load it every time   \n",
        "\n",
        "*Review each class and model set up*"
      ],
      "metadata": {
        "id": "1WxZVj47O4g0"
      }
    },
    {
      "cell_type": "code",
      "source": [
        "from google.colab import drive\n",
        "drive.mount('/content/drive')"
      ],
      "metadata": {
        "colab": {
          "base_uri": "https://localhost:8080/"
        },
        "id": "CCWF0WnCu1_3",
        "outputId": "459ee46e-4c83-4c02-87cd-2d08423d0c1d"
      },
      "execution_count": 2,
      "outputs": [
        {
          "output_type": "stream",
          "name": "stdout",
          "text": [
            "Mounted at /content/drive\n"
          ]
        }
      ]
    },
    {
      "cell_type": "code",
      "source": [
        "try: \n",
        "  import mesa\n",
        "except: \n",
        "  !pip install mesa --quiet\n",
        "  import mesa\n",
        "import numpy as np\n",
        "import math\n",
        "import matplotlib.pyplot as plt\n",
        "\n",
        "\n",
        "\n",
        "%matplotlib inline "
      ],
      "metadata": {
        "id": "R-uRKmZUxS2S",
        "colab": {
          "base_uri": "https://localhost:8080/"
        },
        "outputId": "6c126377-55b1-4aba-a7b4-3b53602e6d11"
      },
      "execution_count": 1,
      "outputs": [
        {
          "output_type": "stream",
          "name": "stdout",
          "text": [
            "\u001b[K     |████████████████████████████████| 2.5 MB 10.9 MB/s \n",
            "\u001b[K     |████████████████████████████████| 596 kB 59.0 MB/s \n",
            "\u001b[K     |████████████████████████████████| 64 kB 2.7 MB/s \n",
            "\u001b[?25h"
          ]
        }
      ]
    },
    {
      "cell_type": "code",
      "source": [
        "def get_distance(pos_1, pos_2):\n",
        "    \"\"\"Calculate Euclidean distance between two positions.\n",
        "    Args:\n",
        "        pos_1, pos_2: Coordinate tuples for both points.\n",
        "    \n",
        "    used in trader.move()\n",
        "    \"\"\"\n",
        "    x1, y1 = pos_1\n",
        "    x2, y2 = pos_2\n",
        "    dx = x1 - x2\n",
        "    dy = y1 - y2\n",
        "    return math.sqrt(dx**2 + dy**2)"
      ],
      "metadata": {
        "id": "BVOrDIhE4EFe"
      },
      "execution_count": null,
      "outputs": []
    },
    {
      "cell_type": "code",
      "source": [
        "class Sugar(mesa.Agent):\n",
        "    \"\"\"\n",
        "    Sugar is a FSM that\n",
        "    - contains an amount of sugar\n",
        "    - grows 1 amount of sugar at each turn (rule G1).\n",
        "    \"\"\"\n",
        "    \n",
        "    \n",
        "    def __init__(self, unique_id, model, pos, max_sugar): \n",
        "      super().__init__(unique_id, model) #part 3\n",
        "      self.pos = pos\n",
        "      self.amount = max_sugar\n",
        "      self.max_sugar = max_sugar\n",
        "\n",
        "    def step(self): #Part 1\n",
        "      self.amount = min([self.max_sugar,self.amount+1])\n",
        "      \n",
        "      "
      ],
      "metadata": {
        "id": "qLn3pp5X1Cp2"
      },
      "execution_count": null,
      "outputs": []
    },
    {
      "cell_type": "code",
      "source": [
        "class Spice(mesa.Agent):\n",
        "    \"\"\"\n",
        "    Spice is a FSM that\n",
        "    - contains an amount of spice\n",
        "    - grows 1 amount of spice at each turn. (rule G1)\n",
        "    \"\"\"\n",
        "\n",
        "    def __init__(self, unique_id, model, pos, max_spice): \n",
        "        super().__init__(unique_id, model) \n",
        "        self.pos = pos\n",
        "        self.amount = max_spice\n",
        "        self.max_spice = max_spice\n",
        "\n",
        "    def step(self): #Part 1\n",
        "      self.amount = min([self.max_spice,self.amount+1])\n",
        "       "
      ],
      "metadata": {
        "id": "vWcWMp2My8tJ"
      },
      "execution_count": null,
      "outputs": []
    },
    {
      "cell_type": "markdown",
      "source": [
        "## Add Eat \n",
        "\n",
        "**Part 1**\n",
        "\n",
        "------------\n",
        "\n",
        "\n",
        "\n",
        "\n",
        "**Part 2**\n",
        "\n",
        "------------\n",
        "\n",
        "\n",
        "\n",
        "\n",
        "\n",
        "\n"
      ],
      "metadata": {
        "id": "9Mxm0q6pAxUq"
      }
    },
    {
      "cell_type": "code",
      "source": [
        "class Trader(mesa.Agent):\n",
        "    \"\"\"\n",
        "    TraderAgent is a \n",
        "    - has a metabolism for sugar and spice\n",
        "    - harvest and trades sugar and spice to survive and thrive\n",
        "    \"\"\"\n",
        "\n",
        "    def __init__(self, unique_id, model,pos,moore=False, sugar=0, \n",
        "                 spice=0, metabolism_sugar=0, metabolism_spice=0,\n",
        "                 vision=0): \n",
        "      super().__init__(unique_id, model)\n",
        "      self.pos = pos \n",
        "      self.moore = False \n",
        "      self.sugar = sugar \n",
        "      self.spice = spice \n",
        "      self.metabolism_sugar=metabolism_sugar \n",
        "      self.metabolism_spice=metabolism_spice \n",
        "      self.vision = vision \n",
        "\n",
        "  \n",
        "    def get_sugar(self, pos): #part 2\n",
        "      '''\n",
        "      used in get_sugar_amount\n",
        "      '''\n",
        "      this_cell = self.model.grid.get_cell_list_contents(pos)\n",
        "      for agent in this_cell:\n",
        "          if type(agent) is Sugar:\n",
        "              return agent\n",
        "      return None\n",
        "    \n",
        "    \n",
        "    def get_sugar_amount(self, pos):\n",
        "      '''\n",
        "      used in move()\n",
        "      '''\n",
        "      \n",
        "      sugar_patch = self.get_sugar(pos)\n",
        "      if sugar_patch:\n",
        "          return sugar_patch.amount\n",
        "      return 0\n",
        "    \n",
        "    \n",
        "    def get_spice(self, pos):\n",
        "      '''\n",
        "      used in get_spice_amount\n",
        "      '''\n",
        "      this_cell = self.model.grid.get_cell_list_contents(pos)\n",
        "      for agent in this_cell:\n",
        "          if type(agent) is Spice:\n",
        "              return agent\n",
        "      return None\n",
        "        \n",
        "    \n",
        "    def get_spice_amount(self, pos):\n",
        "        '''\n",
        "        used in move()\n",
        "        '''\n",
        "\n",
        "        spice_patch = self.get_spice(pos)\n",
        "        if spice_patch: \n",
        "          return spice_patch.amount\n",
        "        return 0\n",
        "\n",
        "    \n",
        "    def is_occupied(self, pos): \n",
        "      '''\n",
        "      Helper function for move\n",
        "      '''\n",
        "      \n",
        "      this_cell = self.model.grid.get_cell_list_contents(pos)\n",
        "      for a in this_cell:\n",
        "          if isinstance(a, Trader) and a.pos != self.pos:\n",
        "              return True\n",
        "      return False\n",
        "       \n",
        "    def calculate_welfare(self, sugar, spice): #This will be built to be like the exmaple later with none, but right now it wouldn't make any sense\n",
        "      '''\n",
        "      Helper function for move\n",
        "      '''\n",
        "\n",
        "      #calculate total resources\n",
        "      m_total = self.metabolism_sugar + self.metabolism_spice\n",
        "      #Cobb-Douglas functional form\n",
        "      return sugar** (self.metabolism_sugar/m_total) * spice ** (\n",
        "          self.metabolism_spice/m_total)\n",
        "    \n",
        "    \n",
        "    def move(self): \n",
        "           \n",
        "      # 1. Get neighbors within vision\n",
        "\n",
        "      neighbors = [i \n",
        "                   for i in self.model.grid.get_neighborhood(\n",
        "                       self.pos, self.moore,True, self.vision\n",
        "                       )\n",
        "                   if not self.is_occupied(i)\n",
        "      ]\n",
        "\n",
        "      # 2. Find the patch which porduce the maximum welfare. \n",
        "\n",
        "      welfares = [\n",
        "            self.calculate_welfare(\n",
        "                self.sugar + self.get_sugar_amount(pos),\n",
        "                self.spice + self.get_spice_amount(pos),\n",
        "            )\n",
        "            for pos in neighbors] #part 2\n",
        "\n",
        "      #find the highest welfare in the cell \n",
        "      max_welfare = max(welfares)\n",
        "      #get the index of maximal welfare cells\n",
        "      candidate_indices = [i for i in range(len(welfares))\n",
        "                             if math.isclose(welfares[i], max_welfare,\n",
        "                                             rel_tol=1e-02)]\n",
        "      #convert index to positions of those cells\n",
        "      candidates = [neighbors[i] for i in candidate_indices]\n",
        "     \n",
        "      \n",
        "      # 3. Find the nearest patch among the candidate.\n",
        "      min_dist = min([get_distance(self.pos, pos) for pos in candidates])\n",
        "      final_candidates = [\n",
        "          pos\n",
        "          for pos in candidates\n",
        "          if math.isclose(get_distance(self.pos, pos),min_dist, rel_tol=1e-02)\n",
        "      ]\n",
        "      self.random.shuffle(final_candidates)\n",
        "\n",
        "      # 4. Move agent.\n",
        "      self.model.grid.move_agent(self, final_candidates[0])\n",
        "\n",
        "\n",
        "      #print(max_welfare, candidates) #part 1\n",
        "      print(min_dist, final_candidates) #part 2\n",
        "\n"
      ],
      "metadata": {
        "id": "89x-JNt-zQmK"
      },
      "execution_count": null,
      "outputs": []
    },
    {
      "cell_type": "code",
      "source": [
        "class SugarscapeG1mt(mesa.Model):\n",
        "\n",
        "  def __init__(self, width=50, height=50, initial_population=100,\n",
        "               endowment_min =25, endowment_max =50, metabolism_min = 1,\n",
        "                 metabolism_max = 5, vision_min = 1, vision_max =5): \n",
        "    \n",
        "    self.width = width\n",
        "    self.height = height\n",
        "    self.initial_population =initial_population \n",
        "    self.endowment_min = endowment_min \n",
        "    self.endowment_max = endowment_max \n",
        "    self.metabolism_min = metabolism_min\n",
        "    self.metabolism_max = metabolism_max\n",
        "    self.vision_min = vision_min\n",
        "    self.vision_max = vision_max\n",
        "\n",
        "\n",
        "    self.schedule = mesa.time.RandomActivationByType(self)\n",
        "    self.grid = mesa.space.MultiGrid(self.width, self.height, torus=True)\n",
        "\n",
        "    sugar_distribution = np.genfromtxt(\"/content/drive/MyDrive/sugar-map.txt\") \n",
        "    spice_distribution = spice = np.flip(sugar_distribution,1)\n",
        "    \n",
        "    #ensure unique id\n",
        "    agent_id = 0\n",
        "    for _, x, y in self.grid.coord_iter(): \n",
        "      max_sugar = sugar_distribution[x,y]\n",
        "      if max_sugar > 0: \n",
        "        sugar = Sugar(agent_id, self, (x,y),max_sugar)\n",
        "        self.grid.place_agent(sugar, (x, y))\n",
        "        #Place Agent\n",
        "        self.schedule.add(sugar) \n",
        "        agent_id += 1\n",
        "\n",
        "      max_spice = spice_distribution[x,y]\n",
        "      if max_spice > 0: \n",
        "        spice = Spice(agent_id, self, (x,y), max_spice)\n",
        "        self.grid.place_agent(spice,(x,y))\n",
        "        self.schedule.add(spice)\n",
        "        agent_id += 1\n",
        "         \n",
        "    \n",
        "    for i in range(self.initial_population):\n",
        "      #get agent position\n",
        "      x = self.random.randrange(self.width) \n",
        "      y = self.random.randrange(self.height) \n",
        "      # See GAS page 108 for parameters initialization.\n",
        "      # Each agent is endowed by a random amount of sugar and spice\n",
        "      sugar = self.random.uniform(self.endowment_min, self.endowment_max+1) \n",
        "      spice = self.random.uniform(self.endowment_min, self.endowment_max+1) \n",
        "      #add metabolism also on page #108\n",
        "      metabolism_sugar = self.random.uniform(self.metabolism_min, self.metabolism_max)\n",
        "      metabolism_spice = self.random.uniform(self.metabolism_min, self.metabolism_max)\n",
        "      #add vision\n",
        "      vision =int(self.random.uniform(self.vision_min, self.vision_max))\n",
        "      trader = Trader(\n",
        "                agent_id,\n",
        "                self,\n",
        "                (x, y),\n",
        "                False,\n",
        "                sugar,\n",
        "                spice,\n",
        "                metabolism_sugar,\n",
        "                metabolism_spice,\n",
        "                vision,\n",
        "            )\n",
        "      self.grid.place_agent(trader, (x, y))\n",
        "      self.schedule.add(trader)\n",
        "      agent_id += 1\n",
        "\n",
        "  def step(self): \n",
        "    \n",
        "    for sugar in self.schedule.agents_by_type[Sugar].values(): \n",
        "      sugar.step()\n",
        "    \n",
        "    for spice in self.schedule.agents_by_type[Spice].values(): \n",
        "      spice.step()\n",
        "    \n",
        "    Traders = self.schedule.agents_by_type[Trader].values()\n",
        "    Trader_shuffle = list(Traders)\n",
        "    self.random.shuffle(Trader_shuffle)\n",
        "    for agent in Trader_shuffle: \n",
        "      agent.move()  \n",
        "    \n",
        "    self.schedule.time +=1\n",
        "    self.schedule.steps += 1\n",
        "    \n",
        "\n",
        "  \n",
        "  def run_model(self, step_count=1000):\n",
        "    \n",
        "    for i in range(step_count):\n",
        "      self.step()\n",
        "      \n",
        "\n",
        "    #self.schedule.step()_\n",
        "\n",
        "        "
      ],
      "metadata": {
        "id": "V3yTkyWz0Pi9"
      },
      "execution_count": null,
      "outputs": []
    },
    {
      "cell_type": "markdown",
      "source": [
        "## Model Run \n"
      ],
      "metadata": {
        "id": "kYXO-SNTPnC-"
      }
    },
    {
      "cell_type": "code",
      "source": [
        "model = SugarscapeG1mt()\n",
        "model.run_model(step_count=1)\n",
        "\n"
      ],
      "metadata": {
        "id": "wbZ1-r5q1fe1"
      },
      "execution_count": null,
      "outputs": []
    }
  ]
}