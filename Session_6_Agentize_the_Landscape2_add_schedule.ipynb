{
  "nbformat": 4,
  "nbformat_minor": 0,
  "metadata": {
    "colab": {
      "name": "Session 6 -Agentize the Landscape2 --add schedule.ipynb",
      "provenance": [],
      "collapsed_sections": [],
      "include_colab_link": true
    },
    "kernelspec": {
      "name": "python3",
      "display_name": "Python 3"
    },
    "language_info": {
      "name": "python"
    }
  },
  "cells": [
    {
      "cell_type": "markdown",
      "metadata": {
        "id": "view-in-github",
        "colab_type": "text"
      },
      "source": [
        "<a href=\"https://colab.research.google.com/github/edgeofchaos42/ComplexityExplorer/blob/main/Session_6_Agentize_the_Landscape2_add_schedule.ipynb\" target=\"_parent\"><img src=\"https://colab.research.google.com/assets/colab-badge.svg\" alt=\"Open In Colab\"/></a>"
      ]
    },
    {
      "cell_type": "markdown",
      "source": [
        "### 1- Review lesson 5 and intro\n",
        "\n",
        "Script Notes: \n",
        "\n",
        "(Have all cells run prior to recording and map loaded) \n",
        "\n",
        "In lesson five we started to agentize the landscape, but creating sugar agents, who were added to our schedule. Remember if you shut down your colab kernel you will need to add the sugar-map.txt file again   \n",
        "\n",
        "Now we want to place those sugar agents in time so eventually Traders can harvest and Trade them. \n",
        "\n",
        "\n",
        "Now a common convetion with google colab is to do a try and except statement with importing so if colab eve rmakes mesa a core library your code will not have to install. To okeep things neat we will add this to our import cell "
      ],
      "metadata": {
        "id": "1WxZVj47O4g0"
      }
    },
    {
      "cell_type": "code",
      "execution_count": null,
      "metadata": {
        "id": "4WLq5KlVQK6X"
      },
      "outputs": [],
      "source": [
        "#Delete this cell  \n",
        "  !pip install mesa --quiet"
      ]
    },
    {
      "cell_type": "code",
      "source": [
        "try: \n",
        "  import mesa\n",
        "except: \n",
        "  !pip install mesa --quiet\n",
        "  import mesa\n",
        "import numpy as np\n",
        "import matplotlib.pyplot as plt\n",
        "\n",
        "\n",
        "\n",
        "%matplotlib inline "
      ],
      "metadata": {
        "id": "R-uRKmZUxS2S",
        "colab": {
          "base_uri": "https://localhost:8080/"
        },
        "outputId": "5d19778b-cf5f-44d6-fcc7-e984f3c67c00"
      },
      "execution_count": 2,
      "outputs": [
        {
          "output_type": "stream",
          "name": "stdout",
          "text": [
            "\u001b[K     |████████████████████████████████| 2.5 MB 5.3 MB/s \n",
            "\u001b[K     |████████████████████████████████| 596 kB 53.1 MB/s \n",
            "\u001b[K     |████████████████████████████████| 64 kB 2.4 MB/s \n",
            "\u001b[?25h"
          ]
        }
      ]
    },
    {
      "cell_type": "code",
      "source": [
        "class Sugar(mesa.Agent):\n",
        "    \"\"\"\n",
        "    Sugar is a FSM that\n",
        "    - contains an amount of sugar\n",
        "    - grows 1 amount of sugar at each turn (Epstein's rule G1).\n",
        "    \"\"\"\n",
        "    \n",
        "    \n",
        "    def __init__(self, unique_id, model, pos, max_sugar): #part 3\n",
        "        super().__init__(unique_id, model) #part 3\n",
        "        self.pos = pos\n",
        "        self.amount = max_sugar\n",
        "        self.max_sugar = max_sugar"
      ],
      "metadata": {
        "id": "qLn3pp5X1Cp2"
      },
      "execution_count": 7,
      "outputs": []
    },
    {
      "cell_type": "markdown",
      "source": [
        "--\n",
        "**Part 3:**\n",
        "\n",
        "We are going to build our spice just like our sugar. \n",
        "\n"
      ],
      "metadata": {
        "id": "D0w3Z43PNl6h"
      }
    },
    {
      "cell_type": "code",
      "source": [
        "class Spice(mesa.Agent):\n",
        "    \"\"\"\n",
        "    Spice is a FSM that\n",
        "    - contains an amount of spice\n",
        "    - grows 1 amount of spice at each turn.\n",
        "    \"\"\"\n",
        "\n",
        "    def __init__(self, unique_id, model, pos, max_spice): #part 3\n",
        "        super().__init__(unique_id, model) #part 3\n",
        "        self.pos = pos\n",
        "        self.amount = max_spice\n",
        "        self.max_spice = max_spice\n",
        "       "
      ],
      "metadata": {
        "id": "vWcWMp2My8tJ"
      },
      "execution_count": 14,
      "outputs": []
    },
    {
      "cell_type": "code",
      "source": [
        "class Trader(mesa.Agent):\n",
        "    \"\"\"\n",
        "    TraderAgent is a \n",
        "    - has a metabolism for sugar and spice\n",
        "    - harvest and trades sugar and spice to survive and thrive\n",
        "    \"\"\"\n",
        "\n",
        "    def __init__(self):\n",
        "      print(\"I am a Trader\")"
      ],
      "metadata": {
        "id": "89x-JNt-zQmK"
      },
      "execution_count": 9,
      "outputs": []
    },
    {
      "cell_type": "markdown",
      "source": [
        "## 2 Add Time\n",
        "Now we need to add a scheduler to sequence agents. These are found in Mesas `time.py` file. mesa has 4 different activation regimes\n",
        "1. RandomActivation, where each step the order of agents changes\n",
        "2. SimultaneousActivation, where there is a step and advance functions are required. each agents process their step but does not apply them until advance\n",
        "3. StagedAcitivation, where each step occurs in stages, for this model stage 1 may be sugar and spice grow, stage 2 agents move, stage 3 agents harvest, stage 4 agents trade-- repeat\n",
        "4. RandomActivationByType in which different types of agents are activated\n",
        "\n",
        "Although a few approaches could apply we will use RandomActivationbyType, as with previous examples all the code can be seen in [Mesa](https://github.com/projectmesa/mesa/blob/a2afbdb40a6f39e2781b30e0de6968ea3090fe38/mesa/time.py#L207). \n",
        "\n",
        "Later on  this choiuce will have some interesting implications if we are going to follow Growing Artificial Socieites exactly, but these show the power of codoing with python that there are numerous options to get the details one wants.  \n",
        "\n",
        "But First\n",
        "---\n",
        "**Part 1**: We need to instnatiae our scheduler in this case `RandomActivationByType`. Using typical mesa convention we will call schedule...\n",
        "\n",
        "---\n",
        "\n",
        "**Part 2**: Next we can add the sugar agents in the for loop we will last lesson in the schedule. And check they are in the schedule by calling on their key\n",
        "\n",
        "\n",
        "---\n",
        "**Part 3:**\n",
        "Now that this is done we do the same for spice and our landscape is created. First we can use the same loop and replciate the code near identically. We also need to update our spice agent and now we test and see our sugar and spice agents being created. \n",
        "\n",
        "WE have now completed lesson 6 and created our sugar and spice agents and place them on the mutlgrid. Next we will intiaite our traders. "
      ],
      "metadata": {
        "id": "RsPaTj2b4wxn"
      }
    },
    {
      "cell_type": "code",
      "source": [
        "class SugarscapeG1mt(mesa.Model):\n",
        "\n",
        "  def __init__(self, width=50, height=50): \n",
        "    \n",
        "    self.width = width\n",
        "    self.height = height\n",
        "\n",
        "    #part 1: add schedule\n",
        "    self.schedule = mesa.time.RandomActivationByType(self)\n",
        "    self.grid = mesa.space.MultiGrid(self.width, self.height, torus=False)\n",
        "\n",
        "    sugar_distribution = np.genfromtxt(\"sugar-map.txt\") \n",
        "    spice_distribution = spice = np.flip(sugar_distribution,1)\n",
        "    \n",
        "    unique_id = 0\n",
        "    for _, x, y in self.grid.coord_iter(): \n",
        "      max_sugar = sugar_distribution[x,y]\n",
        "      if max_sugar > 0: \n",
        "        sugar = Sugar(unique_id, self, (x,y),max_sugar)\n",
        "        self.grid.place_agent(sugar, (x, y))\n",
        "        #Place Agent\n",
        "        self.schedule.add(sugar) \n",
        "        #check\n",
        "        print(self.schedule.agents_by_type[Sugar][unique_id]) #change to hidden attribute\n",
        "        unique_id += 1\n",
        "\n",
        "      #Part 3\n",
        "      max_spice = spice_distribution[x,y]\n",
        "      if max_spice > 0: \n",
        "        spice = Spice(unique_id, self, (x,y), max_spice)\n",
        "        self.grid.place_agent(spice,(x,y))\n",
        "        self.schedule.add(spice)\n",
        "        print(self.schedule.agents_by_type[Spice][unique_id])\n",
        "        unique_id += 1\n",
        "         \n",
        "    \n",
        "        "
      ],
      "metadata": {
        "id": "V3yTkyWz0Pi9"
      },
      "execution_count": 18,
      "outputs": []
    },
    {
      "cell_type": "markdown",
      "source": [
        "Finally we will create a run cell that will initaite our models or models. "
      ],
      "metadata": {
        "id": "kIZgcmbwzy35"
      }
    },
    {
      "cell_type": "code",
      "source": [
        "model = SugarscapeG1mt()"
      ],
      "metadata": {
        "id": "wbZ1-r5q1fe1"
      },
      "execution_count": null,
      "outputs": []
    }
  ]
}