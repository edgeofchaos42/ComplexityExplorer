{
  "nbformat": 4,
  "nbformat_minor": 0,
  "metadata": {
    "colab": {
      "name": "Session 5 -Agentize the Landscape.ipynb",
      "provenance": [],
      "collapsed_sections": [],
      "include_colab_link": true
    },
    "kernelspec": {
      "name": "python3",
      "display_name": "Python 3"
    },
    "language_info": {
      "name": "python"
    }
  },
  "cells": [
    {
      "cell_type": "markdown",
      "metadata": {
        "id": "view-in-github",
        "colab_type": "text"
      },
      "source": [
        "<a href=\"https://colab.research.google.com/github/edgeofchaos42/ComplexityExplorer/blob/main/Session_5_Agentize_the_Landscape.ipynb\" target=\"_parent\"><img src=\"https://colab.research.google.com/assets/colab-badge.svg\" alt=\"Open In Colab\"/></a>"
      ]
    },
    {
      "cell_type": "markdown",
      "source": [
        "### 1- Review lesson 4 and intro\n",
        "\n",
        "Script Notes: \n",
        "\n",
        "(Have all cells run prior to recording and map loaded) \n",
        "\n",
        "In lesson four we read in our text file to create the landscape. Rember if you shut down your colab kernel you will need to add the sugar-map.txt file again   \n",
        "\n",
        "Now we want to agentize these values into sugar and spice agents that growback 1 value per time step until they reach their max value\n",
        "\n",
        "add quiet to avoid seeing the install notes\n"
      ],
      "metadata": {
        "id": "1WxZVj47O4g0"
      }
    },
    {
      "cell_type": "code",
      "execution_count": 2,
      "metadata": {
        "id": "4WLq5KlVQK6X",
        "colab": {
          "base_uri": "https://localhost:8080/"
        },
        "outputId": "aed2f73f-61ce-487f-e695-180d57daa121"
      },
      "outputs": [
        {
          "output_type": "stream",
          "name": "stdout",
          "text": [
            "\u001b[K     |████████████████████████████████| 2.5 MB 26.8 MB/s \n",
            "\u001b[K     |████████████████████████████████| 596 kB 42.5 MB/s \n",
            "\u001b[K     |████████████████████████████████| 64 kB 2.1 MB/s \n",
            "\u001b[?25h"
          ]
        }
      ],
      "source": [
        "pip install mesa --quiet"
      ]
    },
    {
      "cell_type": "code",
      "source": [
        "import mesa\n",
        "import numpy as np\n",
        "import matplotlib.pyplot as plt\n",
        "\n",
        "\n",
        "\n",
        "%matplotlib inline "
      ],
      "metadata": {
        "id": "R-uRKmZUxS2S"
      },
      "execution_count": 3,
      "outputs": []
    },
    {
      "cell_type": "markdown",
      "source": [
        "---\n",
        "**Part 3:**\n",
        "\n",
        "We are going to give our sugar class 4 parameters\n",
        "\n",
        "1. Fist is the unique ID we will pass in \n",
        "\n",
        "2. next we pass in the model, in reality if you are famaliar with C computer language this is just a pointer to the model object\n",
        "\n",
        "These two parameters are common to all mesa agent classes and so we can use the super_init function to inherit from mesa agent class.  \n",
        "\n",
        "3. is the position which we will store in an attribute pos\n",
        "\n",
        "4. finally we want to pass in the amount of sugar on the space. This will actually become two attributes for the agent, the max sugar this location can hold and the current amount of sugar so as the model progress we can track sugar being consumed.\n",
        "\n",
        "we will then test this with some print statements---as you can see print an object with a memory location and if we want we can see the attributes\n",
        "\n"
      ],
      "metadata": {
        "id": "UiCOyxAP809a"
      }
    },
    {
      "cell_type": "code",
      "source": [
        "class Sugar(mesa.Agent):\n",
        "    \"\"\"\n",
        "    Sugar is a FSM that\n",
        "    - contains an amount of sugar\n",
        "    - grows 1 amount of sugar at each turn (Epstein's rule G1).\n",
        "    \"\"\"\n",
        "    \n",
        "    \n",
        "    def __init__(self, id, model, pos, max_sugar): #part 3\n",
        "        super().__init__(id, model) #part 3\n",
        "        self.pos = pos\n",
        "        self.amount = max_sugar\n",
        "        self.max_sugar = max_sugar"
      ],
      "metadata": {
        "id": "qLn3pp5X1Cp2"
      },
      "execution_count": 4,
      "outputs": []
    },
    {
      "cell_type": "code",
      "source": [
        "class Spice(mesa.Agent):\n",
        "    \"\"\"\n",
        "    Spice is a FSM that\n",
        "    - contains an amount of spice\n",
        "    - grows 1 amount of spice at each turn.\n",
        "    \"\"\"\n",
        "\n",
        "    def __init__(self):\n",
        "      print(\"I am Spice\")\n",
        "       "
      ],
      "metadata": {
        "id": "vWcWMp2My8tJ"
      },
      "execution_count": 5,
      "outputs": []
    },
    {
      "cell_type": "code",
      "source": [
        "class Trader(mesa.Agent):\n",
        "    \"\"\"\n",
        "    TraderAgent is a \n",
        "    - has a metabolism for sugar and spice\n",
        "    - harvest and trades sugar and spice to survive and thrive\n",
        "    \"\"\"\n",
        "\n",
        "    def __init__(self):\n",
        "      print(\"I am a Trader\")"
      ],
      "metadata": {
        "id": "89x-JNt-zQmK"
      },
      "execution_count": 6,
      "outputs": []
    },
    {
      "cell_type": "markdown",
      "source": [
        "## 2 Agentize Sugar and Spice\n",
        "\n",
        "Now we need to create a grid on which the sugar and spice can live and read in the values of the landscape. \n",
        "\n",
        "---\n",
        "**Part 1**: Create for loop to read in sugar\n",
        "\n",
        "-- In the last lesson we created the 50 X 50 grid using Mesa's multigrid class that allows multiple agents per square for this model we can have sugar, spice and a trader. \n",
        "\n",
        "--So we are going to iterate through that grid and add our sugar and spice values. First let us see what is in the multigrid structure, \n",
        "**create loop with grid**\n",
        "\n",
        "as you can see it is a list with three parts an empty list we will fill with agents and the location. We will keep this for loop for now to test our code as we go, using the maxim \"code a little, test a little\"\n",
        "\n",
        "---\n",
        "\n",
        "**Part 2**\n",
        "\n",
        "now there is numerous ways to do this in python so remember this is just one way, using the fact that the map and the grid have the same data structure 50 lists, each with a length of 50. We can leverage there same data structure as this means both the multigrid and text file will have the same x,y index. \n",
        "\n",
        "To prevent unecessary agents we will only get those locations with sugar value of 1 or greater.\n",
        "\n",
        "As each agent is stored in a dictionary [**show mesa code**](https://github.com/projectmesa/mesa/blob/a2afbdb40a6f39e2781b30e0de6968ea3090fe38/mesa/time.py#L56)\n",
        "we must ensure each agent id is unique. To do this we can just use a number and add one each loop. \n",
        "\n",
        "Now we will to update our sugar class. **Move up to Part 3**\n",
        "\n",
        "---\n",
        "**Part 3:** See above\n",
        "\n",
        "\n",
        "\n",
        "---\n",
        "**Part 4:** Now that we have update our sugar class we can instantiate each sugar agent with their unique parameters. We must also remember to increase our agent_id number so each agent get a unique id. We can then test this to make sure are are get the behavior we want with a print statement. \n",
        "\n",
        "Now that we know we are building 2069 agents (remember we started at 0) we can also infer there is 431 spaces with 0 sugar. \n",
        "\n",
        "Not only do we want to create the agent we also need to put it on a grid..which we will cover in the next lesson."
      ],
      "metadata": {
        "id": "RsPaTj2b4wxn"
      }
    },
    {
      "cell_type": "code",
      "source": [
        "class SugarscapeG1mt(mesa.Model):\n",
        "\n",
        "  def __init__(self, width=50, height=50): \n",
        "    \n",
        "    self.width = width\n",
        "    self.height = height\n",
        "\n",
        "    self.grid = mesa.space.MultiGrid(self.width, self.height, torus=False)\n",
        "\n",
        "    sugar_distribution = np.genfromtxt(\"sugar-map.txt\") \n",
        "    spice_distribution = spice = np.flip(sugar_distribution,1)\n",
        "    #part 1 delete\n",
        "    #plt.imshow(sugar_distribution, origin=\"lower\") #switch to orign to lower, change to spice\n",
        "    \n",
        "    # Part 2\n",
        "    agent_id = 0\n",
        "    for _, x, y in self.grid.coord_iter(): \n",
        "      max_sugar = sugar_distribution[x,y]\n",
        "      if max_sugar > 0: \n",
        "        sugar = Sugar(agent_id, self, (x,y),max_sugar)\n",
        "        agent_id += 1\n",
        "        print(sugar.unique_id) #part 3--- then show attribute \n",
        "    \n",
        "    #Part 1: \n",
        "    for x in self.grid.coord_iter(): \n",
        "      print(x)\n",
        "      break\n",
        "    \n",
        "    #DELETE\n",
        "    #Place on grid\n",
        "    '''\n",
        "    self.spice = Spice()\n",
        "    self.sugar = Sugar()\n",
        "    self.trader = Trader()\n",
        "    '''"
      ],
      "metadata": {
        "id": "V3yTkyWz0Pi9"
      },
      "execution_count": 10,
      "outputs": []
    },
    {
      "cell_type": "markdown",
      "source": [
        "Finally we will create a run cell that will initaite our models or models. "
      ],
      "metadata": {
        "id": "kIZgcmbwzy35"
      }
    },
    {
      "cell_type": "code",
      "source": [
        "model = SugarscapeG1mt()"
      ],
      "metadata": {
        "id": "wbZ1-r5q1fe1"
      },
      "execution_count": null,
      "outputs": []
    },
    {
      "cell_type": "markdown",
      "source": [
        "This concludes session 3 in the next session we will create our sugar and spice agents. "
      ],
      "metadata": {
        "id": "NhtKbMFkHlQD"
      }
    }
  ]
}